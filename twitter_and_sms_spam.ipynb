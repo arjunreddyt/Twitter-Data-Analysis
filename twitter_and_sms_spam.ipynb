{
 "cells": [
  {
   "cell_type": "markdown",
   "metadata": {},
   "source": [
    "Script to connect to twitter API and gather tweets"
   ]
  },
  {
   "cell_type": "code",
   "execution_count": 1,
   "metadata": {
    "collapsed": false
   },
   "outputs": [
    {
     "ename": "ImportError",
     "evalue": "No module named twitter",
     "output_type": "error",
     "traceback": [
      "\u001b[1;31m---------------------------------------------------------------------------\u001b[0m",
      "\u001b[1;31mImportError\u001b[0m                               Traceback (most recent call last)",
      "\u001b[1;32m<ipython-input-1-43ed3a565cf9>\u001b[0m in \u001b[0;36m<module>\u001b[1;34m()\u001b[0m\n\u001b[0;32m      2\u001b[0m \u001b[1;32mimport\u001b[0m \u001b[0mjson\u001b[0m\u001b[1;33m\u001b[0m\u001b[0m\n\u001b[0;32m      3\u001b[0m \u001b[1;32mimport\u001b[0m \u001b[0mnltk\u001b[0m\u001b[1;33m\u001b[0m\u001b[0m\n\u001b[1;32m----> 4\u001b[1;33m \u001b[1;32mimport\u001b[0m \u001b[0mtwitter\u001b[0m\u001b[1;33m\u001b[0m\u001b[0m\n\u001b[0m\u001b[0;32m      5\u001b[0m \u001b[1;33m\u001b[0m\u001b[0m\n\u001b[0;32m      6\u001b[0m \u001b[1;31m#Authentication and connecting to twitter API\u001b[0m\u001b[1;33m\u001b[0m\u001b[1;33m\u001b[0m\u001b[0m\n",
      "\u001b[1;31mImportError\u001b[0m: No module named twitter"
     ]
    }
   ],
   "source": [
    "import io\n",
    "import json\n",
    "import nltk\n",
    "import twitter\n",
    "\n",
    "#Authentication and connecting to twitter API\n",
    "CONSUMER_KEY = ''\n",
    "CONSUMER_SECRET= ''\n",
    "OAUTH_TOKEN = ''\n",
    "OAUTH_TOKEN_SECRET = ''\n",
    "\n",
    "\n",
    "QUERY = 'india'\n",
    "\n",
    "\n",
    "OUT_FILE = QUERY + \".json\"\n",
    "\n",
    "auth = twitter.oauth.OAuth(OAUTH_TOKEN, OAUTH_TOKEN_SECRET,\n",
    "                           CONSUMER_KEY, CONSUMER_SECRET)\n",
    "\n",
    "twitter_stream = twitter.TwitterStream(auth=auth)\n",
    "\n",
    "\n",
    "print 'Filtering the public timeline for \"{0}\"'.format(QUERY)\n",
    "\n",
    "\n",
    "stream = twitter_stream.statuses.filter(track=QUERY)\n",
    "\n",
    "# Write one tweet per line as a JSON document.\n",
    "\n",
    "with io.open(OUT_FILE, 'w', encoding='utf-8', buffering=1) as f:\n",
    "    for tweet in stream:\n",
    "        f.write(unicode(u'{0}\\n'.format(json.dumps(tweet, ensure_ascii=False))))\n",
    "        print tweet['text']\n",
    "\n",
    "\n",
    "\n",
    "        \"We have now gathered all the data\""
   ]
  },
  {
   "cell_type": "code",
   "execution_count": 2,
   "metadata": {
    "collapsed": false
   },
   "outputs": [],
   "source": [
    "import pandas as pd\n",
    "import matplotlib as plt"
   ]
  },
  {
   "cell_type": "code",
   "execution_count": 3,
   "metadata": {
    "collapsed": false
   },
   "outputs": [],
   "source": [
    "file=\"/home/arjun/PycharmProjects/Twitter/india.json\""
   ]
  },
  {
   "cell_type": "code",
   "execution_count": 4,
   "metadata": {
    "collapsed": false
   },
   "outputs": [],
   "source": [
    "\n",
    "\n",
    "data = \"[{0}]\".format(\",\".join([l for l in open(file).readlines()]))"
   ]
  },
  {
   "cell_type": "markdown",
   "metadata": {},
   "source": [
    "Creating a data frame"
   ]
  },
  {
   "cell_type": "code",
   "execution_count": 5,
   "metadata": {
    "collapsed": true
   },
   "outputs": [],
   "source": [
    "df = pd.read_json(data, orient='records')"
   ]
  },
  {
   "cell_type": "code",
   "execution_count": 6,
   "metadata": {
    "collapsed": false
   },
   "outputs": [
    {
     "name": "stdout",
     "output_type": "stream",
     "text": [
      "Successfully imported 18757 tweets\n"
     ]
    }
   ],
   "source": [
    "\n",
    "print \"Successfully imported\", len(df), \"tweets\""
   ]
  },
  {
   "cell_type": "code",
   "execution_count": 7,
   "metadata": {
    "collapsed": false
   },
   "outputs": [
    {
     "name": "stdout",
     "output_type": "stream",
     "text": [
      "       contributors coordinates          created_at display_text_range  \\\n",
      "0               NaN        None 2016-12-06 04:05:22                NaN   \n",
      "1               NaN        None 2016-12-06 04:05:23                NaN   \n",
      "2               NaN        None 2016-12-06 04:05:23                NaN   \n",
      "3               NaN        None 2016-12-06 04:05:24                NaN   \n",
      "4               NaN        None 2016-12-06 04:05:24                NaN   \n",
      "5               NaN        None 2016-12-06 04:05:24                NaN   \n",
      "6               NaN        None 2016-12-06 04:05:24           [0, 106]   \n",
      "7               NaN        None 2016-12-06 04:05:24           [0, 114]   \n",
      "8               NaN        None 2016-12-06 04:05:25                NaN   \n",
      "9               NaN        None 2016-12-06 04:05:25          [13, 108]   \n",
      "10              NaN        None 2016-12-06 04:05:26                NaN   \n",
      "11              NaN        None 2016-12-06 04:05:26                NaN   \n",
      "12              NaN        None 2016-12-06 04:05:27                NaN   \n",
      "13              NaN        None 2016-12-06 04:05:27           [0, 140]   \n",
      "14              NaN        None 2016-12-06 04:05:28                NaN   \n",
      "15              NaN        None 2016-12-06 04:05:28                NaN   \n",
      "16              NaN        None 2016-12-06 04:05:28          [28, 138]   \n",
      "17              NaN        None 2016-12-06 04:05:27                NaN   \n",
      "18              NaN        None 2016-12-06 04:05:27                NaN   \n",
      "19              NaN        None 2016-12-06 04:05:28                NaN   \n",
      "20              NaN        None 2016-12-06 04:05:29                NaN   \n",
      "21              NaN        None 2016-12-06 04:05:29                NaN   \n",
      "22              NaN        None 2016-12-06 04:05:29                NaN   \n",
      "23              NaN        None 2016-12-06 04:05:29                NaN   \n",
      "24              NaN        None 2016-12-06 04:05:29                NaN   \n",
      "25              NaN        None 2016-12-06 04:05:29                NaN   \n",
      "26              NaN        None 2016-12-06 04:05:30                NaN   \n",
      "27              NaN        None 2016-12-06 04:05:30                NaN   \n",
      "28              NaN        None 2016-12-06 04:05:30                NaN   \n",
      "29              NaN        None 2016-12-06 04:05:30                NaN   \n",
      "...             ...         ...                 ...                ...   \n",
      "18727           NaN        None 2016-12-06 05:19:03                NaN   \n",
      "18728           NaN        None 2016-12-06 05:19:03                NaN   \n",
      "18729           NaN        None 2016-12-06 05:19:04                NaN   \n",
      "18730           NaN        None 2016-12-06 05:19:04                NaN   \n",
      "18731           NaN        None 2016-12-06 05:19:04                NaN   \n",
      "18732           NaN        None 2016-12-06 05:19:04                NaN   \n",
      "18733           NaN        None 2016-12-06 05:19:04                NaN   \n",
      "18734           NaN        None 2016-12-06 05:19:04                NaN   \n",
      "18735           NaN        None 2016-12-06 05:19:04                NaN   \n",
      "18736           NaN        None 2016-12-06 05:19:04                NaN   \n",
      "18737           NaN        None 2016-12-06 05:19:04                NaN   \n",
      "18738           NaN        None 2016-12-06 05:19:04                NaN   \n",
      "18739           NaN        None 2016-12-06 05:19:04                NaN   \n",
      "18740           NaN        None 2016-12-06 05:19:04                NaN   \n",
      "18741           NaN        None 2016-12-06 05:19:04                NaN   \n",
      "18742           NaN        None 2016-12-06 05:19:04                NaN   \n",
      "18743           NaN        None 2016-12-06 05:19:04                NaN   \n",
      "18744           NaN        None 2016-12-06 05:19:04                NaN   \n",
      "18745           NaN        None 2016-12-06 05:19:04                NaN   \n",
      "18746           NaN        None 2016-12-06 05:19:04                NaN   \n",
      "18747           NaN        None 2016-12-06 05:19:04                NaN   \n",
      "18748           NaN        None 2016-12-06 05:19:04                NaN   \n",
      "18749           NaN        None 2016-12-06 05:19:04                NaN   \n",
      "18750           NaN        None 2016-12-06 05:19:04                NaN   \n",
      "18751           NaN        None 2016-12-06 05:19:04                NaN   \n",
      "18752           NaN        None 2016-12-06 05:19:04                NaN   \n",
      "18753           NaN        None 2016-12-06 05:19:04                NaN   \n",
      "18754           NaN        None 2016-12-06 05:19:05                NaN   \n",
      "18755           NaN        None 2016-12-06 05:19:05                NaN   \n",
      "18756           NaN         NaN                 NaT                NaN   \n",
      "\n",
      "                                                entities  \\\n",
      "0      {u'user_mentions': [{u'indices': [3, 14], u'sc...   \n",
      "1      {u'user_mentions': [{u'indices': [3, 16], u'sc...   \n",
      "2      {u'user_mentions': [{u'indices': [3, 16], u'sc...   \n",
      "3      {u'user_mentions': [{u'indices': [3, 16], u'sc...   \n",
      "4      {u'user_mentions': [], u'symbols': [], u'hasht...   \n",
      "5      {u'user_mentions': [{u'indices': [3, 14], u'sc...   \n",
      "6      {u'user_mentions': [], u'symbols': [], u'hasht...   \n",
      "7      {u'user_mentions': [], u'symbols': [], u'hasht...   \n",
      "8      {u'user_mentions': [], u'symbols': [], u'hasht...   \n",
      "9      {u'user_mentions': [{u'indices': [0, 12], u'sc...   \n",
      "10     {u'user_mentions': [{u'indices': [3, 10], u'sc...   \n",
      "11     {u'user_mentions': [], u'symbols': [], u'hasht...   \n",
      "12     {u'user_mentions': [{u'indices': [3, 14], u'sc...   \n",
      "13     {u'user_mentions': [{u'indices': [65, 81], u's...   \n",
      "14     {u'user_mentions': [{u'indices': [3, 12], u'sc...   \n",
      "15     {u'user_mentions': [{u'indices': [3, 15], u'sc...   \n",
      "16     {u'user_mentions': [{u'indices': [0, 16], u'sc...   \n",
      "17     {u'user_mentions': [{u'indices': [3, 19], u'sc...   \n",
      "18     {u'user_mentions': [{u'indices': [3, 15], u'sc...   \n",
      "19     {u'user_mentions': [], u'symbols': [], u'hasht...   \n",
      "20     {u'user_mentions': [{u'indices': [3, 17], u'sc...   \n",
      "21     {u'user_mentions': [{u'indices': [3, 17], u'sc...   \n",
      "22     {u'user_mentions': [{u'indices': [3, 12], u'sc...   \n",
      "23     {u'user_mentions': [{u'indices': [3, 17], u'sc...   \n",
      "24     {u'user_mentions': [{u'indices': [3, 15], u'sc...   \n",
      "25     {u'user_mentions': [], u'symbols': [], u'hasht...   \n",
      "26     {u'user_mentions': [], u'symbols': [], u'hasht...   \n",
      "27     {u'user_mentions': [], u'symbols': [], u'hasht...   \n",
      "28     {u'user_mentions': [], u'symbols': [], u'hasht...   \n",
      "29     {u'user_mentions': [{u'indices': [3, 16], u'sc...   \n",
      "...                                                  ...   \n",
      "18727  {u'user_mentions': [{u'indices': [3, 15], u'sc...   \n",
      "18728  {u'user_mentions': [{u'indices': [3, 14], u'sc...   \n",
      "18729  {u'user_mentions': [], u'symbols': [], u'hasht...   \n",
      "18730  {u'user_mentions': [{u'indices': [3, 15], u'sc...   \n",
      "18731  {u'user_mentions': [{u'indices': [3, 15], u'sc...   \n",
      "18732  {u'user_mentions': [{u'indices': [3, 15], u'sc...   \n",
      "18733  {u'user_mentions': [{u'indices': [3, 15], u'sc...   \n",
      "18734  {u'user_mentions': [{u'indices': [3, 15], u'sc...   \n",
      "18735  {u'user_mentions': [{u'indices': [3, 15], u'sc...   \n",
      "18736  {u'user_mentions': [{u'indices': [3, 15], u'sc...   \n",
      "18737  {u'user_mentions': [{u'indices': [3, 15], u'sc...   \n",
      "18738  {u'user_mentions': [{u'indices': [3, 15], u'sc...   \n",
      "18739  {u'user_mentions': [{u'indices': [3, 15], u'sc...   \n",
      "18740  {u'user_mentions': [{u'indices': [3, 15], u'sc...   \n",
      "18741  {u'user_mentions': [{u'indices': [3, 15], u'sc...   \n",
      "18742  {u'user_mentions': [{u'indices': [3, 18], u'sc...   \n",
      "18743  {u'user_mentions': [{u'indices': [3, 15], u'sc...   \n",
      "18744  {u'user_mentions': [{u'indices': [3, 16], u'sc...   \n",
      "18745  {u'user_mentions': [{u'indices': [3, 15], u'sc...   \n",
      "18746  {u'user_mentions': [{u'indices': [3, 15], u'sc...   \n",
      "18747  {u'user_mentions': [{u'indices': [3, 15], u'sc...   \n",
      "18748  {u'user_mentions': [{u'indices': [3, 15], u'sc...   \n",
      "18749  {u'user_mentions': [{u'indices': [3, 15], u'sc...   \n",
      "18750  {u'user_mentions': [{u'indices': [3, 15], u'sc...   \n",
      "18751  {u'user_mentions': [{u'indices': [3, 15], u'sc...   \n",
      "18752  {u'user_mentions': [{u'indices': [3, 15], u'sc...   \n",
      "18753  {u'user_mentions': [], u'symbols': [], u'hasht...   \n",
      "18754  {u'user_mentions': [{u'indices': [3, 17], u'sc...   \n",
      "18755  {u'user_mentions': [{u'indices': [3, 13], u'sc...   \n",
      "18756                                                NaN   \n",
      "\n",
      "                                       extended_entities  \\\n",
      "0                                                    NaN   \n",
      "1                                                    NaN   \n",
      "2                                                    NaN   \n",
      "3      {u'media': [{u'source_user_id': 134758540, u's...   \n",
      "4                                                    NaN   \n",
      "5      {u'media': [{u'source_user_id': 492154297, u's...   \n",
      "6      {u'media': [{u'expanded_url': u'https://twitte...   \n",
      "7      {u'media': [{u'expanded_url': u'https://twitte...   \n",
      "8                                                    NaN   \n",
      "9                                                    NaN   \n",
      "10                                                   NaN   \n",
      "11                                                   NaN   \n",
      "12                                                   NaN   \n",
      "13                                                   NaN   \n",
      "14     {u'media': [{u'source_user_id': 240649814, u's...   \n",
      "15     {u'media': [{u'source_user_id': 2570343312, u'...   \n",
      "16                                                   NaN   \n",
      "17                                                   NaN   \n",
      "18                                                   NaN   \n",
      "19                                                   NaN   \n",
      "20     {u'media': [{u'source_user_id': 4001094565, u'...   \n",
      "21                                                   NaN   \n",
      "22                                                   NaN   \n",
      "23                                                   NaN   \n",
      "24     {u'media': [{u'source_user_id': 1642135962, u'...   \n",
      "25                                                   NaN   \n",
      "26                                                   NaN   \n",
      "27                                                   NaN   \n",
      "28                                                   NaN   \n",
      "29                                                   NaN   \n",
      "...                                                  ...   \n",
      "18727                                                NaN   \n",
      "18728                                                NaN   \n",
      "18729  {u'media': [{u'source_user_id': 333888813, u's...   \n",
      "18730                                                NaN   \n",
      "18731                                                NaN   \n",
      "18732                                                NaN   \n",
      "18733                                                NaN   \n",
      "18734                                                NaN   \n",
      "18735                                                NaN   \n",
      "18736                                                NaN   \n",
      "18737                                                NaN   \n",
      "18738                                                NaN   \n",
      "18739                                                NaN   \n",
      "18740                                                NaN   \n",
      "18741                                                NaN   \n",
      "18742                                                NaN   \n",
      "18743                                                NaN   \n",
      "18744                                                NaN   \n",
      "18745                                                NaN   \n",
      "18746                                                NaN   \n",
      "18747                                                NaN   \n",
      "18748                                                NaN   \n",
      "18749                                                NaN   \n",
      "18750                                                NaN   \n",
      "18751                                                NaN   \n",
      "18752                                                NaN   \n",
      "18753                                                NaN   \n",
      "18754                                                NaN   \n",
      "18755                                                NaN   \n",
      "18756                                                NaN   \n",
      "\n",
      "                                          extended_tweet  favorite_count  \\\n",
      "0                                                    NaN             0.0   \n",
      "1                                                    NaN             0.0   \n",
      "2                                                    NaN             0.0   \n",
      "3                                                    NaN             0.0   \n",
      "4                                                    NaN             0.0   \n",
      "5                                                    NaN             0.0   \n",
      "6                                                    NaN             0.0   \n",
      "7                                                    NaN             0.0   \n",
      "8                                                    NaN             0.0   \n",
      "9                                                    NaN             0.0   \n",
      "10                                                   NaN             0.0   \n",
      "11                                                   NaN             0.0   \n",
      "12                                                   NaN             0.0   \n",
      "13     {u'display_text_range': [0, 126], u'entities':...             0.0   \n",
      "14                                                   NaN             0.0   \n",
      "15                                                   NaN             0.0   \n",
      "16                                                   NaN             0.0   \n",
      "17                                                   NaN             0.0   \n",
      "18                                                   NaN             0.0   \n",
      "19                                                   NaN             0.0   \n",
      "20                                                   NaN             0.0   \n",
      "21                                                   NaN             0.0   \n",
      "22                                                   NaN             0.0   \n",
      "23                                                   NaN             0.0   \n",
      "24                                                   NaN             0.0   \n",
      "25                                                   NaN             0.0   \n",
      "26                                                   NaN             0.0   \n",
      "27                                                   NaN             0.0   \n",
      "28                                                   NaN             0.0   \n",
      "29                                                   NaN             0.0   \n",
      "...                                                  ...             ...   \n",
      "18727                                                NaN             0.0   \n",
      "18728                                                NaN             0.0   \n",
      "18729                                                NaN             0.0   \n",
      "18730                                                NaN             0.0   \n",
      "18731                                                NaN             0.0   \n",
      "18732                                                NaN             0.0   \n",
      "18733                                                NaN             0.0   \n",
      "18734                                                NaN             0.0   \n",
      "18735                                                NaN             0.0   \n",
      "18736                                                NaN             0.0   \n",
      "18737                                                NaN             0.0   \n",
      "18738                                                NaN             0.0   \n",
      "18739                                                NaN             0.0   \n",
      "18740                                                NaN             0.0   \n",
      "18741                                                NaN             0.0   \n",
      "18742                                                NaN             0.0   \n",
      "18743                                                NaN             0.0   \n",
      "18744                                                NaN             0.0   \n",
      "18745                                                NaN             0.0   \n",
      "18746                                                NaN             0.0   \n",
      "18747                                                NaN             0.0   \n",
      "18748                                                NaN             0.0   \n",
      "18749                                                NaN             0.0   \n",
      "18750                                                NaN             0.0   \n",
      "18751                                                NaN             0.0   \n",
      "18752                                                NaN             0.0   \n",
      "18753                                                NaN             0.0   \n",
      "18754                                                NaN             0.0   \n",
      "18755                                                NaN             0.0   \n",
      "18756                                                NaN             NaN   \n",
      "\n",
      "       favorited filter_level  \\\n",
      "0            0.0          low   \n",
      "1            0.0          low   \n",
      "2            0.0          low   \n",
      "3            0.0          low   \n",
      "4            0.0          low   \n",
      "5            0.0          low   \n",
      "6            0.0          low   \n",
      "7            0.0          low   \n",
      "8            0.0          low   \n",
      "9            0.0          low   \n",
      "10           0.0          low   \n",
      "11           0.0          low   \n",
      "12           0.0          low   \n",
      "13           0.0          low   \n",
      "14           0.0          low   \n",
      "15           0.0          low   \n",
      "16           0.0          low   \n",
      "17           0.0          low   \n",
      "18           0.0          low   \n",
      "19           0.0          low   \n",
      "20           0.0          low   \n",
      "21           0.0          low   \n",
      "22           0.0          low   \n",
      "23           0.0          low   \n",
      "24           0.0          low   \n",
      "25           0.0          low   \n",
      "26           0.0          low   \n",
      "27           0.0          low   \n",
      "28           0.0          low   \n",
      "29           0.0          low   \n",
      "...          ...          ...   \n",
      "18727        0.0          low   \n",
      "18728        0.0          low   \n",
      "18729        0.0          low   \n",
      "18730        0.0          low   \n",
      "18731        0.0          low   \n",
      "18732        0.0          low   \n",
      "18733        0.0          low   \n",
      "18734        0.0          low   \n",
      "18735        0.0          low   \n",
      "18736        0.0          low   \n",
      "18737        0.0          low   \n",
      "18738        0.0          low   \n",
      "18739        0.0          low   \n",
      "18740        0.0          low   \n",
      "18741        0.0          low   \n",
      "18742        0.0          low   \n",
      "18743        0.0          low   \n",
      "18744        0.0          low   \n",
      "18745        0.0          low   \n",
      "18746        0.0          low   \n",
      "18747        0.0          low   \n",
      "18748        0.0          low   \n",
      "18749        0.0          low   \n",
      "18750        0.0          low   \n",
      "18751        0.0          low   \n",
      "18752        0.0          low   \n",
      "18753        0.0          low   \n",
      "18754        0.0          low   \n",
      "18755        0.0          low   \n",
      "18756        NaN          NaN   \n",
      "\n",
      "                             ...                         quoted_status_id  \\\n",
      "0                            ...                                      NaN   \n",
      "1                            ...                                      NaN   \n",
      "2                            ...                                      NaN   \n",
      "3                            ...                                      NaN   \n",
      "4                            ...                                      NaN   \n",
      "5                            ...                                      NaN   \n",
      "6                            ...                                      NaN   \n",
      "7                            ...                                      NaN   \n",
      "8                            ...                                      NaN   \n",
      "9                            ...                                      NaN   \n",
      "10                           ...                                      NaN   \n",
      "11                           ...                                      NaN   \n",
      "12                           ...                                      NaN   \n",
      "13                           ...                                      NaN   \n",
      "14                           ...                                      NaN   \n",
      "15                           ...                                      NaN   \n",
      "16                           ...                                      NaN   \n",
      "17                           ...                             8.059794e+17   \n",
      "18                           ...                                      NaN   \n",
      "19                           ...                                      NaN   \n",
      "20                           ...                                      NaN   \n",
      "21                           ...                             8.058573e+17   \n",
      "22                           ...                                      NaN   \n",
      "23                           ...                                      NaN   \n",
      "24                           ...                                      NaN   \n",
      "25                           ...                                      NaN   \n",
      "26                           ...                                      NaN   \n",
      "27                           ...                                      NaN   \n",
      "28                           ...                                      NaN   \n",
      "29                           ...                             8.039612e+17   \n",
      "...                          ...                                      ...   \n",
      "18727                        ...                                      NaN   \n",
      "18728                        ...                                      NaN   \n",
      "18729                        ...                                      NaN   \n",
      "18730                        ...                                      NaN   \n",
      "18731                        ...                                      NaN   \n",
      "18732                        ...                                      NaN   \n",
      "18733                        ...                                      NaN   \n",
      "18734                        ...                                      NaN   \n",
      "18735                        ...                                      NaN   \n",
      "18736                        ...                                      NaN   \n",
      "18737                        ...                                      NaN   \n",
      "18738                        ...                                      NaN   \n",
      "18739                        ...                                      NaN   \n",
      "18740                        ...                                      NaN   \n",
      "18741                        ...                                      NaN   \n",
      "18742                        ...                                      NaN   \n",
      "18743                        ...                                      NaN   \n",
      "18744                        ...                                      NaN   \n",
      "18745                        ...                                      NaN   \n",
      "18746                        ...                                      NaN   \n",
      "18747                        ...                                      NaN   \n",
      "18748                        ...                                      NaN   \n",
      "18749                        ...                                      NaN   \n",
      "18750                        ...                                      NaN   \n",
      "18751                        ...                                      NaN   \n",
      "18752                        ...                                      NaN   \n",
      "18753                        ...                                      NaN   \n",
      "18754                        ...                                      NaN   \n",
      "18755                        ...                             8.059794e+17   \n",
      "18756                        ...                                      NaN   \n",
      "\n",
      "       quoted_status_id_str  retweet_count retweeted  \\\n",
      "0                       NaN            0.0       0.0   \n",
      "1                       NaN            0.0       0.0   \n",
      "2                       NaN            0.0       0.0   \n",
      "3                       NaN            0.0       0.0   \n",
      "4                       NaN            0.0       0.0   \n",
      "5                       NaN            0.0       0.0   \n",
      "6                       NaN            0.0       0.0   \n",
      "7                       NaN            0.0       0.0   \n",
      "8                       NaN            0.0       0.0   \n",
      "9                       NaN            0.0       0.0   \n",
      "10                      NaN            0.0       0.0   \n",
      "11                      NaN            0.0       0.0   \n",
      "12                      NaN            0.0       0.0   \n",
      "13                      NaN            0.0       0.0   \n",
      "14                      NaN            0.0       0.0   \n",
      "15                      NaN            0.0       0.0   \n",
      "16                      NaN            0.0       0.0   \n",
      "17             8.059794e+17            0.0       0.0   \n",
      "18                      NaN            0.0       0.0   \n",
      "19                      NaN            0.0       0.0   \n",
      "20                      NaN            0.0       0.0   \n",
      "21             8.058573e+17            0.0       0.0   \n",
      "22                      NaN            0.0       0.0   \n",
      "23                      NaN            0.0       0.0   \n",
      "24                      NaN            0.0       0.0   \n",
      "25                      NaN            0.0       0.0   \n",
      "26                      NaN            0.0       0.0   \n",
      "27                      NaN            0.0       0.0   \n",
      "28                      NaN            0.0       0.0   \n",
      "29             8.039612e+17            0.0       0.0   \n",
      "...                     ...            ...       ...   \n",
      "18727                   NaN            0.0       0.0   \n",
      "18728                   NaN            0.0       0.0   \n",
      "18729                   NaN            0.0       0.0   \n",
      "18730                   NaN            0.0       0.0   \n",
      "18731                   NaN            0.0       0.0   \n",
      "18732                   NaN            0.0       0.0   \n",
      "18733                   NaN            0.0       0.0   \n",
      "18734                   NaN            0.0       0.0   \n",
      "18735                   NaN            0.0       0.0   \n",
      "18736                   NaN            0.0       0.0   \n",
      "18737                   NaN            0.0       0.0   \n",
      "18738                   NaN            0.0       0.0   \n",
      "18739                   NaN            0.0       0.0   \n",
      "18740                   NaN            0.0       0.0   \n",
      "18741                   NaN            0.0       0.0   \n",
      "18742                   NaN            0.0       0.0   \n",
      "18743                   NaN            0.0       0.0   \n",
      "18744                   NaN            0.0       0.0   \n",
      "18745                   NaN            0.0       0.0   \n",
      "18746                   NaN            0.0       0.0   \n",
      "18747                   NaN            0.0       0.0   \n",
      "18748                   NaN            0.0       0.0   \n",
      "18749                   NaN            0.0       0.0   \n",
      "18750                   NaN            0.0       0.0   \n",
      "18751                   NaN            0.0       0.0   \n",
      "18752                   NaN            0.0       0.0   \n",
      "18753                   NaN            0.0       0.0   \n",
      "18754                   NaN            0.0       0.0   \n",
      "18755          8.059794e+17            0.0       0.0   \n",
      "18756                   NaN            NaN       NaN   \n",
      "\n",
      "                                        retweeted_status  \\\n",
      "0      {u'contributors': None, u'truncated': True, u'...   \n",
      "1      {u'contributors': None, u'truncated': False, u...   \n",
      "2      {u'contributors': None, u'truncated': False, u...   \n",
      "3      {u'contributors': None, u'truncated': False, u...   \n",
      "4                                                    NaN   \n",
      "5      {u'contributors': None, u'truncated': False, u...   \n",
      "6                                                    NaN   \n",
      "7                                                    NaN   \n",
      "8                                                    NaN   \n",
      "9                                                    NaN   \n",
      "10     {u'contributors': None, u'truncated': False, u...   \n",
      "11                                                   NaN   \n",
      "12     {u'contributors': None, u'truncated': False, u...   \n",
      "13                                                   NaN   \n",
      "14     {u'contributors': None, u'truncated': False, u...   \n",
      "15     {u'contributors': None, u'truncated': False, u...   \n",
      "16                                                   NaN   \n",
      "17     {u'contributors': None, u'truncated': False, u...   \n",
      "18     {u'contributors': None, u'truncated': False, u...   \n",
      "19                                                   NaN   \n",
      "20     {u'contributors': None, u'truncated': False, u...   \n",
      "21     {u'contributors': None, u'truncated': False, u...   \n",
      "22     {u'contributors': None, u'truncated': False, u...   \n",
      "23     {u'contributors': None, u'truncated': False, u...   \n",
      "24     {u'contributors': None, u'truncated': False, u...   \n",
      "25                                                   NaN   \n",
      "26                                                   NaN   \n",
      "27                                                   NaN   \n",
      "28                                                   NaN   \n",
      "29     {u'contributors': None, u'truncated': True, u'...   \n",
      "...                                                  ...   \n",
      "18727  {u'contributors': None, u'truncated': False, u...   \n",
      "18728  {u'contributors': None, u'truncated': True, u'...   \n",
      "18729                                                NaN   \n",
      "18730  {u'contributors': None, u'truncated': False, u...   \n",
      "18731  {u'contributors': None, u'truncated': False, u...   \n",
      "18732  {u'contributors': None, u'truncated': False, u...   \n",
      "18733  {u'contributors': None, u'truncated': False, u...   \n",
      "18734  {u'contributors': None, u'truncated': False, u...   \n",
      "18735  {u'contributors': None, u'truncated': False, u...   \n",
      "18736  {u'contributors': None, u'truncated': False, u...   \n",
      "18737  {u'contributors': None, u'truncated': False, u...   \n",
      "18738  {u'contributors': None, u'truncated': True, u'...   \n",
      "18739  {u'contributors': None, u'truncated': False, u...   \n",
      "18740  {u'contributors': None, u'truncated': False, u...   \n",
      "18741  {u'contributors': None, u'truncated': False, u...   \n",
      "18742  {u'contributors': None, u'truncated': False, u...   \n",
      "18743  {u'contributors': None, u'truncated': False, u...   \n",
      "18744  {u'contributors': None, u'truncated': False, u...   \n",
      "18745  {u'contributors': None, u'truncated': False, u...   \n",
      "18746  {u'contributors': None, u'truncated': False, u...   \n",
      "18747  {u'contributors': None, u'truncated': False, u...   \n",
      "18748  {u'contributors': None, u'truncated': False, u...   \n",
      "18749  {u'contributors': None, u'truncated': False, u...   \n",
      "18750  {u'contributors': None, u'truncated': False, u...   \n",
      "18751  {u'contributors': None, u'truncated': False, u...   \n",
      "18752  {u'contributors': None, u'truncated': False, u...   \n",
      "18753                                                NaN   \n",
      "18754  {u'contributors': None, u'truncated': True, u'...   \n",
      "18755  {u'contributors': None, u'truncated': False, u...   \n",
      "18756                                                NaN   \n",
      "\n",
      "                                                  source  \\\n",
      "0      <a href=\"http://twitter.com/download/android\" ...   \n",
      "1      <a href=\"http://twitter.com/download/android\" ...   \n",
      "2      <a href=\"http://twitter.com/download/iphone\" r...   \n",
      "3      <a href=\"http://twitter.com/download/android\" ...   \n",
      "4      <a href=\"http://www.twitter.com\" rel=\"nofollow...   \n",
      "5      <a href=\"http://twitter.com\" rel=\"nofollow\">Tw...   \n",
      "6      <a href=\"http://tweepsmap.com\" rel=\"nofollow\">...   \n",
      "7      <a href=\"http://dlvr.it\" rel=\"nofollow\">dlvr.i...   \n",
      "8      <a href=\"http://www.google.com/\" rel=\"nofollow...   \n",
      "9      <a href=\"http://twitter.com\" rel=\"nofollow\">Tw...   \n",
      "10     <a href=\"http://twitter.com\" rel=\"nofollow\">Tw...   \n",
      "11     <a href=\"http://www.facebook.com/twitter\" rel=...   \n",
      "12     <a href=\"http://twitter.com/download/android\" ...   \n",
      "13     <a href=\"http://twitter.com/download/iphone\" r...   \n",
      "14     <a href=\"http://twitter.com/download/android\" ...   \n",
      "15     <a href=\"http://twitter.com/download/android\" ...   \n",
      "16     <a href=\"http://twitter.com/download/android\" ...   \n",
      "17     <a href=\"http://twitter.com/download/android\" ...   \n",
      "18     <a href=\"http://twitter.com/download/android\" ...   \n",
      "19     <a href=\"http://ifttt.com\" rel=\"nofollow\">IFTT...   \n",
      "20     <a href=\"http://twitter.com/download/android\" ...   \n",
      "21     <a href=\"http://twitter.com/download/android\" ...   \n",
      "22     <a href=\"https://mobile.twitter.com\" rel=\"nofo...   \n",
      "23     <a href=\"http://www.clubsofa.org\" rel=\"nofollo...   \n",
      "24     <a href=\"http://twitter.com/download/iphone\" r...   \n",
      "25     <a href=\"http://latiendadejm.com\" rel=\"nofollo...   \n",
      "26     <a href=\"http://twitter.com\" rel=\"nofollow\">Tw...   \n",
      "27     <a href=\"http://latiendadejm.com\" rel=\"nofollo...   \n",
      "28     <a href=\"http://paper.li\" rel=\"nofollow\">Paper...   \n",
      "29     <a href=\"http://twitter.com/download/android\" ...   \n",
      "...                                                  ...   \n",
      "18727  <a href=\"https://about.twitter.com/products/tw...   \n",
      "18728  <a href=\"http://twitter.com/download/android\" ...   \n",
      "18729  <a href=\"http://ifttt.com\" rel=\"nofollow\">IFTT...   \n",
      "18730  <a href=\"https://about.twitter.com/products/tw...   \n",
      "18731  <a href=\"https://about.twitter.com/products/tw...   \n",
      "18732  <a href=\"https://about.twitter.com/products/tw...   \n",
      "18733  <a href=\"https://about.twitter.com/products/tw...   \n",
      "18734  <a href=\"https://about.twitter.com/products/tw...   \n",
      "18735  <a href=\"https://about.twitter.com/products/tw...   \n",
      "18736  <a href=\"https://about.twitter.com/products/tw...   \n",
      "18737  <a href=\"https://about.twitter.com/products/tw...   \n",
      "18738  <a href=\"http://twitter.com\" rel=\"nofollow\">Tw...   \n",
      "18739  <a href=\"https://about.twitter.com/products/tw...   \n",
      "18740  <a href=\"https://about.twitter.com/products/tw...   \n",
      "18741  <a href=\"https://about.twitter.com/products/tw...   \n",
      "18742  <a href=\"http://twitter.com/download/iphone\" r...   \n",
      "18743  <a href=\"https://about.twitter.com/products/tw...   \n",
      "18744  <a href=\"http://twitter.com/download/android\" ...   \n",
      "18745  <a href=\"https://about.twitter.com/products/tw...   \n",
      "18746  <a href=\"https://about.twitter.com/products/tw...   \n",
      "18747  <a href=\"https://about.twitter.com/products/tw...   \n",
      "18748  <a href=\"https://about.twitter.com/products/tw...   \n",
      "18749  <a href=\"https://about.twitter.com/products/tw...   \n",
      "18750  <a href=\"https://about.twitter.com/products/tw...   \n",
      "18751  <a href=\"https://about.twitter.com/products/tw...   \n",
      "18752  <a href=\"https://about.twitter.com/products/tw...   \n",
      "18753  <a href=\"http://www.jobs.as/\" rel=\"nofollow\">J...   \n",
      "18754  <a href=\"http://twitter.com/download/android\" ...   \n",
      "18755  <a href=\"http://twitter.com/download/android\" ...   \n",
      "18756                                                NaN   \n",
      "\n",
      "                                                    text  \\\n",
      "0      RT @EleanorH2O: We do amazing work in #India o...   \n",
      "1      RT @narendramodi: I bow to Dr. Babasaheb Ambed...   \n",
      "2      RT @narendramodi: I bow to Dr. Babasaheb Ambed...   \n",
      "3      RT @timesofindia: TN CM Jayalalithaa's death: ...   \n",
      "4      India mourns the loss of a leader but the peop...   \n",
      "5      RT @JaagAlerts: India unlikely to produce F16s...   \n",
      "6      I have 450 new followers from India, Banglades...   \n",
      "7      OMG! Customs Intercepts Container Of Jollof Ri...   \n",
      "8      India Jayalalitha: Thousands mourn colourful p...   \n",
      "9      @Ashwinyiyer Awaiting your film to arrive @ ne...   \n",
      "10     RT @yashar: Friendly reminder: Pakistan and In...   \n",
      "11       https://t.co/xQPr7tLTWT https://t.co/1XcFrk2fuJ   \n",
      "12     RT @SaranMufc_: Black day for India. #RIPJayal...   \n",
      "13     Carnegie India 'where technology meets policy'...   \n",
      "14     RT @TimesNow: VIDEO: The end of a era, India m...   \n",
      "15     RT @PrabhasRaju: #BaahubaliTops2015 Trending T...   \n",
      "16     @sardesairajdeep @suhelseth Did he also remind...   \n",
      "17     RT @Vija_crazyNalls: இந்த மாதிரி ஈனபிறவிங்க அவ...   \n",
      "18     RT @poojakamal7: Really Sad news for people's ...   \n",
      "19     J Jayalalithaa death: Rajinikanth, Shah Rukh K...   \n",
      "20     RT @offl_Lawrence: May your soul Rest In Peace...   \n",
      "21     RT @TandonRaveena: #RIPAmma. What a Remarkable...   \n",
      "22     RT @brumbyOz: Given the standard of politics i...   \n",
      "23     RT @_pooja_jagtap: RT EconomicTimes: Chinese f...   \n",
      "24     RT @BBCNewsAsia: Grief as India's 'Iron Lady' ...   \n",
      "25     India Jayalalitha: Thousands mourn colourful p...   \n",
      "26     Central govt announces one-day mourning after ...   \n",
      "27     India Jayalalitha: Thousands mourn colourful p...   \n",
      "28     The latest India Emancipated! https://t.co/AFf...   \n",
      "29     RT @SushmaSwaraj: We have brought him back to ...   \n",
      "...                                                  ...   \n",
      "18727  RT @PiyushGoyal: Govt is working to ensure tha...   \n",
      "18728  RT @IndiaToday: #AmmaForever\\nJ Jayalalithaa t...   \n",
      "18729  RT abpnewshindi \"जयललिता के जीवन के सफर की ऐसी...   \n",
      "18730  RT @PiyushGoyal: Govt is working to ensure tha...   \n",
      "18731  RT @PiyushGoyal: Govt is working to ensure tha...   \n",
      "18732  RT @PiyushGoyal: Govt is working to ensure tha...   \n",
      "18733  RT @PiyushGoyal: Govt is working to ensure tha...   \n",
      "18734  RT @PiyushGoyal: Govt is working to ensure tha...   \n",
      "18735  RT @PiyushGoyal: Govt is working to ensure tha...   \n",
      "18736  RT @PiyushGoyal: Govt is working to ensure tha...   \n",
      "18737  RT @PiyushGoyal: Govt is working to ensure tha...   \n",
      "18738  RT @E_DinarCoin: Брендированные стикеры E-Dina...   \n",
      "18739  RT @PiyushGoyal: Govt is working to ensure tha...   \n",
      "18740  RT @PiyushGoyal: Govt is working to ensure tha...   \n",
      "18741  RT @PiyushGoyal: Govt is working to ensure tha...   \n",
      "18742  RT @IndianInterest: India needs fighter planes...   \n",
      "18743  RT @PiyushGoyal: Govt is working to ensure tha...   \n",
      "18744  RT @narendramodi: I bow to Dr. Babasaheb Ambed...   \n",
      "18745  RT @PiyushGoyal: Govt is working to ensure tha...   \n",
      "18746  RT @PiyushGoyal: Govt is working to ensure tha...   \n",
      "18747  RT @PiyushGoyal: Govt is working to ensure tha...   \n",
      "18748  RT @PiyushGoyal: Govt is working to ensure tha...   \n",
      "18749  RT @PiyushGoyal: Govt is working to ensure tha...   \n",
      "18750  RT @PiyushGoyal: Govt is working to ensure tha...   \n",
      "18751  RT @PiyushGoyal: Govt is working to ensure tha...   \n",
      "18752  RT @PiyushGoyal: Govt is working to ensure tha...   \n",
      "18753  SuccessFactors: Developer - ABAP (Bengaluru, K...   \n",
      "18754  RT @iamlakshmirai: May ur soul rest in peace #...   \n",
      "18755  RT @AlwaysKNA: இது எவ்ளோ பெரிய கேவலம் தெரியுமா...   \n",
      "18756                                                NaN   \n",
      "\n",
      "                 timestamp_ms  truncated  \\\n",
      "0     2016-12-06 04:05:22.985        0.0   \n",
      "1     2016-12-06 04:05:23.229        0.0   \n",
      "2     2016-12-06 04:05:23.972        0.0   \n",
      "3     2016-12-06 04:05:24.350        0.0   \n",
      "4     2016-12-06 04:05:24.904        0.0   \n",
      "5     2016-12-06 04:05:24.882        0.0   \n",
      "6     2016-12-06 04:05:24.748        0.0   \n",
      "7     2016-12-06 04:05:24.595        0.0   \n",
      "8     2016-12-06 04:05:25.531        0.0   \n",
      "9     2016-12-06 04:05:25.814        0.0   \n",
      "10    2016-12-06 04:05:26.125        0.0   \n",
      "11    2016-12-06 04:05:26.706        0.0   \n",
      "12    2016-12-06 04:05:27.784        0.0   \n",
      "13    2016-12-06 04:05:27.298        1.0   \n",
      "14    2016-12-06 04:05:28.004        0.0   \n",
      "15    2016-12-06 04:05:28.028        0.0   \n",
      "16    2016-12-06 04:05:28.018        0.0   \n",
      "17    2016-12-06 04:05:27.972        0.0   \n",
      "18    2016-12-06 04:05:27.924        0.0   \n",
      "19    2016-12-06 04:05:28.914        0.0   \n",
      "20    2016-12-06 04:05:29.251        0.0   \n",
      "21    2016-12-06 04:05:29.241        0.0   \n",
      "22    2016-12-06 04:05:29.684        0.0   \n",
      "23    2016-12-06 04:05:29.885        0.0   \n",
      "24    2016-12-06 04:05:29.775        0.0   \n",
      "25    2016-12-06 04:05:29.852        0.0   \n",
      "26    2016-12-06 04:05:30.433        0.0   \n",
      "27    2016-12-06 04:05:30.371        0.0   \n",
      "28    2016-12-06 04:05:30.336        0.0   \n",
      "29    2016-12-06 04:05:30.582        0.0   \n",
      "...                       ...        ...   \n",
      "18727 2016-12-06 05:19:03.383        0.0   \n",
      "18728 2016-12-06 05:19:03.936        0.0   \n",
      "18729 2016-12-06 05:19:04.171        0.0   \n",
      "18730 2016-12-06 05:19:04.356        0.0   \n",
      "18731 2016-12-06 05:19:04.340        0.0   \n",
      "18732 2016-12-06 05:19:04.357        0.0   \n",
      "18733 2016-12-06 05:19:04.402        0.0   \n",
      "18734 2016-12-06 05:19:04.340        0.0   \n",
      "18735 2016-12-06 05:19:04.403        0.0   \n",
      "18736 2016-12-06 05:19:04.401        0.0   \n",
      "18737 2016-12-06 05:19:04.400        0.0   \n",
      "18738 2016-12-06 05:19:04.342        0.0   \n",
      "18739 2016-12-06 05:19:04.343        0.0   \n",
      "18740 2016-12-06 05:19:04.371        0.0   \n",
      "18741 2016-12-06 05:19:04.356        0.0   \n",
      "18742 2016-12-06 05:19:04.418        0.0   \n",
      "18743 2016-12-06 05:19:04.356        0.0   \n",
      "18744 2016-12-06 05:19:04.486        0.0   \n",
      "18745 2016-12-06 05:19:04.358        0.0   \n",
      "18746 2016-12-06 05:19:04.386        0.0   \n",
      "18747 2016-12-06 05:19:04.478        0.0   \n",
      "18748 2016-12-06 05:19:04.622        0.0   \n",
      "18749 2016-12-06 05:19:04.623        0.0   \n",
      "18750 2016-12-06 05:19:04.621        0.0   \n",
      "18751 2016-12-06 05:19:04.623        0.0   \n",
      "18752 2016-12-06 05:19:04.623        0.0   \n",
      "18753 2016-12-06 05:19:04.895        0.0   \n",
      "18754 2016-12-06 05:19:05.054        0.0   \n",
      "18755 2016-12-06 05:19:05.176        0.0   \n",
      "18756                     NaT        NaN   \n",
      "\n",
      "                                                    user  \n",
      "0      {u'follow_request_sent': None, u'profile_use_b...  \n",
      "1      {u'follow_request_sent': None, u'profile_use_b...  \n",
      "2      {u'follow_request_sent': None, u'profile_use_b...  \n",
      "3      {u'follow_request_sent': None, u'profile_use_b...  \n",
      "4      {u'follow_request_sent': None, u'profile_use_b...  \n",
      "5      {u'follow_request_sent': None, u'profile_use_b...  \n",
      "6      {u'follow_request_sent': None, u'profile_use_b...  \n",
      "7      {u'follow_request_sent': None, u'profile_use_b...  \n",
      "8      {u'follow_request_sent': None, u'profile_use_b...  \n",
      "9      {u'follow_request_sent': None, u'profile_use_b...  \n",
      "10     {u'follow_request_sent': None, u'profile_use_b...  \n",
      "11     {u'follow_request_sent': None, u'profile_use_b...  \n",
      "12     {u'follow_request_sent': None, u'profile_use_b...  \n",
      "13     {u'follow_request_sent': None, u'profile_use_b...  \n",
      "14     {u'follow_request_sent': None, u'profile_use_b...  \n",
      "15     {u'follow_request_sent': None, u'profile_use_b...  \n",
      "16     {u'follow_request_sent': None, u'profile_use_b...  \n",
      "17     {u'follow_request_sent': None, u'profile_use_b...  \n",
      "18     {u'follow_request_sent': None, u'profile_use_b...  \n",
      "19     {u'follow_request_sent': None, u'profile_use_b...  \n",
      "20     {u'follow_request_sent': None, u'profile_use_b...  \n",
      "21     {u'follow_request_sent': None, u'profile_use_b...  \n",
      "22     {u'follow_request_sent': None, u'profile_use_b...  \n",
      "23     {u'follow_request_sent': None, u'profile_use_b...  \n",
      "24     {u'follow_request_sent': None, u'profile_use_b...  \n",
      "25     {u'follow_request_sent': None, u'profile_use_b...  \n",
      "26     {u'follow_request_sent': None, u'profile_use_b...  \n",
      "27     {u'follow_request_sent': None, u'profile_use_b...  \n",
      "28     {u'follow_request_sent': None, u'profile_use_b...  \n",
      "29     {u'follow_request_sent': None, u'profile_use_b...  \n",
      "...                                                  ...  \n",
      "18727  {u'follow_request_sent': None, u'profile_use_b...  \n",
      "18728  {u'follow_request_sent': None, u'profile_use_b...  \n",
      "18729  {u'follow_request_sent': None, u'profile_use_b...  \n",
      "18730  {u'follow_request_sent': None, u'profile_use_b...  \n",
      "18731  {u'follow_request_sent': None, u'profile_use_b...  \n",
      "18732  {u'follow_request_sent': None, u'profile_use_b...  \n",
      "18733  {u'follow_request_sent': None, u'profile_use_b...  \n",
      "18734  {u'follow_request_sent': None, u'profile_use_b...  \n",
      "18735  {u'follow_request_sent': None, u'profile_use_b...  \n",
      "18736  {u'follow_request_sent': None, u'profile_use_b...  \n",
      "18737  {u'follow_request_sent': None, u'profile_use_b...  \n",
      "18738  {u'follow_request_sent': None, u'profile_use_b...  \n",
      "18739  {u'follow_request_sent': None, u'profile_use_b...  \n",
      "18740  {u'follow_request_sent': None, u'profile_use_b...  \n",
      "18741  {u'follow_request_sent': None, u'profile_use_b...  \n",
      "18742  {u'follow_request_sent': None, u'profile_use_b...  \n",
      "18743  {u'follow_request_sent': None, u'profile_use_b...  \n",
      "18744  {u'follow_request_sent': None, u'profile_use_b...  \n",
      "18745  {u'follow_request_sent': None, u'profile_use_b...  \n",
      "18746  {u'follow_request_sent': None, u'profile_use_b...  \n",
      "18747  {u'follow_request_sent': None, u'profile_use_b...  \n",
      "18748  {u'follow_request_sent': None, u'profile_use_b...  \n",
      "18749  {u'follow_request_sent': None, u'profile_use_b...  \n",
      "18750  {u'follow_request_sent': None, u'profile_use_b...  \n",
      "18751  {u'follow_request_sent': None, u'profile_use_b...  \n",
      "18752  {u'follow_request_sent': None, u'profile_use_b...  \n",
      "18753  {u'follow_request_sent': None, u'profile_use_b...  \n",
      "18754  {u'follow_request_sent': None, u'profile_use_b...  \n",
      "18755  {u'follow_request_sent': None, u'profile_use_b...  \n",
      "18756                                                NaN  \n",
      "\n",
      "[18757 rows x 34 columns]\n"
     ]
    }
   ],
   "source": [
    "print df"
   ]
  },
  {
   "cell_type": "code",
   "execution_count": 8,
   "metadata": {
    "collapsed": true
   },
   "outputs": [],
   "source": [
    "limit_notices = df[pd.notnull(df.limit)]"
   ]
  },
  {
   "cell_type": "markdown",
   "metadata": {},
   "source": [
    "Limit Notices are those limited by twitter because the API allows you to capture only 1% of the tweets. "
   ]
  },
  {
   "cell_type": "code",
   "execution_count": 9,
   "metadata": {
    "collapsed": false
   },
   "outputs": [
    {
     "data": {
      "text/html": [
       "<div>\n",
       "<table border=\"1\" class=\"dataframe\">\n",
       "  <thead>\n",
       "    <tr style=\"text-align: right;\">\n",
       "      <th></th>\n",
       "      <th>contributors</th>\n",
       "      <th>coordinates</th>\n",
       "      <th>created_at</th>\n",
       "      <th>display_text_range</th>\n",
       "      <th>entities</th>\n",
       "      <th>extended_entities</th>\n",
       "      <th>extended_tweet</th>\n",
       "      <th>favorite_count</th>\n",
       "      <th>favorited</th>\n",
       "      <th>filter_level</th>\n",
       "      <th>...</th>\n",
       "      <th>quoted_status_id</th>\n",
       "      <th>quoted_status_id_str</th>\n",
       "      <th>retweet_count</th>\n",
       "      <th>retweeted</th>\n",
       "      <th>retweeted_status</th>\n",
       "      <th>source</th>\n",
       "      <th>text</th>\n",
       "      <th>timestamp_ms</th>\n",
       "      <th>truncated</th>\n",
       "      <th>user</th>\n",
       "    </tr>\n",
       "  </thead>\n",
       "  <tbody>\n",
       "    <tr>\n",
       "      <th>18756</th>\n",
       "      <td>NaN</td>\n",
       "      <td>NaN</td>\n",
       "      <td>NaT</td>\n",
       "      <td>NaN</td>\n",
       "      <td>NaN</td>\n",
       "      <td>NaN</td>\n",
       "      <td>NaN</td>\n",
       "      <td>NaN</td>\n",
       "      <td>NaN</td>\n",
       "      <td>NaN</td>\n",
       "      <td>...</td>\n",
       "      <td>NaN</td>\n",
       "      <td>NaN</td>\n",
       "      <td>NaN</td>\n",
       "      <td>NaN</td>\n",
       "      <td>NaN</td>\n",
       "      <td>NaN</td>\n",
       "      <td>NaN</td>\n",
       "      <td>NaT</td>\n",
       "      <td>NaN</td>\n",
       "      <td>NaN</td>\n",
       "    </tr>\n",
       "  </tbody>\n",
       "</table>\n",
       "<p>1 rows × 34 columns</p>\n",
       "</div>"
      ],
      "text/plain": [
       "       contributors coordinates created_at display_text_range entities  \\\n",
       "18756           NaN         NaN        NaT                NaN      NaN   \n",
       "\n",
       "      extended_entities extended_tweet  favorite_count  favorited  \\\n",
       "18756               NaN            NaN             NaN        NaN   \n",
       "\n",
       "      filter_level ...  quoted_status_id  quoted_status_id_str  retweet_count  \\\n",
       "18756          NaN ...               NaN                   NaN            NaN   \n",
       "\n",
       "      retweeted  retweeted_status  source  text  timestamp_ms  truncated user  \n",
       "18756       NaN               NaN     NaN   NaN           NaT        NaN  NaN  \n",
       "\n",
       "[1 rows x 34 columns]"
      ]
     },
     "execution_count": 9,
     "metadata": {},
     "output_type": "execute_result"
    }
   ],
   "source": [
    "limit_notices"
   ]
  },
  {
   "cell_type": "markdown",
   "metadata": {},
   "source": [
    "Remove null values and limit notices. "
   ]
  },
  {
   "cell_type": "code",
   "execution_count": 10,
   "metadata": {
    "collapsed": true
   },
   "outputs": [],
   "source": [
    "df = df[pd.notnull(df['id'])]"
   ]
  },
  {
   "cell_type": "code",
   "execution_count": 11,
   "metadata": {
    "collapsed": false
   },
   "outputs": [
    {
     "name": "stdout",
     "output_type": "stream",
     "text": [
      "       contributors coordinates          created_at display_text_range  \\\n",
      "0               NaN        None 2016-12-06 04:05:22                NaN   \n",
      "1               NaN        None 2016-12-06 04:05:23                NaN   \n",
      "2               NaN        None 2016-12-06 04:05:23                NaN   \n",
      "3               NaN        None 2016-12-06 04:05:24                NaN   \n",
      "4               NaN        None 2016-12-06 04:05:24                NaN   \n",
      "5               NaN        None 2016-12-06 04:05:24                NaN   \n",
      "6               NaN        None 2016-12-06 04:05:24           [0, 106]   \n",
      "7               NaN        None 2016-12-06 04:05:24           [0, 114]   \n",
      "8               NaN        None 2016-12-06 04:05:25                NaN   \n",
      "9               NaN        None 2016-12-06 04:05:25          [13, 108]   \n",
      "10              NaN        None 2016-12-06 04:05:26                NaN   \n",
      "11              NaN        None 2016-12-06 04:05:26                NaN   \n",
      "12              NaN        None 2016-12-06 04:05:27                NaN   \n",
      "13              NaN        None 2016-12-06 04:05:27           [0, 140]   \n",
      "14              NaN        None 2016-12-06 04:05:28                NaN   \n",
      "15              NaN        None 2016-12-06 04:05:28                NaN   \n",
      "16              NaN        None 2016-12-06 04:05:28          [28, 138]   \n",
      "17              NaN        None 2016-12-06 04:05:27                NaN   \n",
      "18              NaN        None 2016-12-06 04:05:27                NaN   \n",
      "19              NaN        None 2016-12-06 04:05:28                NaN   \n",
      "20              NaN        None 2016-12-06 04:05:29                NaN   \n",
      "21              NaN        None 2016-12-06 04:05:29                NaN   \n",
      "22              NaN        None 2016-12-06 04:05:29                NaN   \n",
      "23              NaN        None 2016-12-06 04:05:29                NaN   \n",
      "24              NaN        None 2016-12-06 04:05:29                NaN   \n",
      "25              NaN        None 2016-12-06 04:05:29                NaN   \n",
      "26              NaN        None 2016-12-06 04:05:30                NaN   \n",
      "27              NaN        None 2016-12-06 04:05:30                NaN   \n",
      "28              NaN        None 2016-12-06 04:05:30                NaN   \n",
      "29              NaN        None 2016-12-06 04:05:30                NaN   \n",
      "...             ...         ...                 ...                ...   \n",
      "18726           NaN        None 2016-12-06 05:19:03                NaN   \n",
      "18727           NaN        None 2016-12-06 05:19:03                NaN   \n",
      "18728           NaN        None 2016-12-06 05:19:03                NaN   \n",
      "18729           NaN        None 2016-12-06 05:19:04                NaN   \n",
      "18730           NaN        None 2016-12-06 05:19:04                NaN   \n",
      "18731           NaN        None 2016-12-06 05:19:04                NaN   \n",
      "18732           NaN        None 2016-12-06 05:19:04                NaN   \n",
      "18733           NaN        None 2016-12-06 05:19:04                NaN   \n",
      "18734           NaN        None 2016-12-06 05:19:04                NaN   \n",
      "18735           NaN        None 2016-12-06 05:19:04                NaN   \n",
      "18736           NaN        None 2016-12-06 05:19:04                NaN   \n",
      "18737           NaN        None 2016-12-06 05:19:04                NaN   \n",
      "18738           NaN        None 2016-12-06 05:19:04                NaN   \n",
      "18739           NaN        None 2016-12-06 05:19:04                NaN   \n",
      "18740           NaN        None 2016-12-06 05:19:04                NaN   \n",
      "18741           NaN        None 2016-12-06 05:19:04                NaN   \n",
      "18742           NaN        None 2016-12-06 05:19:04                NaN   \n",
      "18743           NaN        None 2016-12-06 05:19:04                NaN   \n",
      "18744           NaN        None 2016-12-06 05:19:04                NaN   \n",
      "18745           NaN        None 2016-12-06 05:19:04                NaN   \n",
      "18746           NaN        None 2016-12-06 05:19:04                NaN   \n",
      "18747           NaN        None 2016-12-06 05:19:04                NaN   \n",
      "18748           NaN        None 2016-12-06 05:19:04                NaN   \n",
      "18749           NaN        None 2016-12-06 05:19:04                NaN   \n",
      "18750           NaN        None 2016-12-06 05:19:04                NaN   \n",
      "18751           NaN        None 2016-12-06 05:19:04                NaN   \n",
      "18752           NaN        None 2016-12-06 05:19:04                NaN   \n",
      "18753           NaN        None 2016-12-06 05:19:04                NaN   \n",
      "18754           NaN        None 2016-12-06 05:19:05                NaN   \n",
      "18755           NaN        None 2016-12-06 05:19:05                NaN   \n",
      "\n",
      "                                                entities  \\\n",
      "0      {u'user_mentions': [{u'indices': [3, 14], u'sc...   \n",
      "1      {u'user_mentions': [{u'indices': [3, 16], u'sc...   \n",
      "2      {u'user_mentions': [{u'indices': [3, 16], u'sc...   \n",
      "3      {u'user_mentions': [{u'indices': [3, 16], u'sc...   \n",
      "4      {u'user_mentions': [], u'symbols': [], u'hasht...   \n",
      "5      {u'user_mentions': [{u'indices': [3, 14], u'sc...   \n",
      "6      {u'user_mentions': [], u'symbols': [], u'hasht...   \n",
      "7      {u'user_mentions': [], u'symbols': [], u'hasht...   \n",
      "8      {u'user_mentions': [], u'symbols': [], u'hasht...   \n",
      "9      {u'user_mentions': [{u'indices': [0, 12], u'sc...   \n",
      "10     {u'user_mentions': [{u'indices': [3, 10], u'sc...   \n",
      "11     {u'user_mentions': [], u'symbols': [], u'hasht...   \n",
      "12     {u'user_mentions': [{u'indices': [3, 14], u'sc...   \n",
      "13     {u'user_mentions': [{u'indices': [65, 81], u's...   \n",
      "14     {u'user_mentions': [{u'indices': [3, 12], u'sc...   \n",
      "15     {u'user_mentions': [{u'indices': [3, 15], u'sc...   \n",
      "16     {u'user_mentions': [{u'indices': [0, 16], u'sc...   \n",
      "17     {u'user_mentions': [{u'indices': [3, 19], u'sc...   \n",
      "18     {u'user_mentions': [{u'indices': [3, 15], u'sc...   \n",
      "19     {u'user_mentions': [], u'symbols': [], u'hasht...   \n",
      "20     {u'user_mentions': [{u'indices': [3, 17], u'sc...   \n",
      "21     {u'user_mentions': [{u'indices': [3, 17], u'sc...   \n",
      "22     {u'user_mentions': [{u'indices': [3, 12], u'sc...   \n",
      "23     {u'user_mentions': [{u'indices': [3, 17], u'sc...   \n",
      "24     {u'user_mentions': [{u'indices': [3, 15], u'sc...   \n",
      "25     {u'user_mentions': [], u'symbols': [], u'hasht...   \n",
      "26     {u'user_mentions': [], u'symbols': [], u'hasht...   \n",
      "27     {u'user_mentions': [], u'symbols': [], u'hasht...   \n",
      "28     {u'user_mentions': [], u'symbols': [], u'hasht...   \n",
      "29     {u'user_mentions': [{u'indices': [3, 16], u'sc...   \n",
      "...                                                  ...   \n",
      "18726  {u'user_mentions': [{u'indices': [3, 8], u'scr...   \n",
      "18727  {u'user_mentions': [{u'indices': [3, 15], u'sc...   \n",
      "18728  {u'user_mentions': [{u'indices': [3, 14], u'sc...   \n",
      "18729  {u'user_mentions': [], u'symbols': [], u'hasht...   \n",
      "18730  {u'user_mentions': [{u'indices': [3, 15], u'sc...   \n",
      "18731  {u'user_mentions': [{u'indices': [3, 15], u'sc...   \n",
      "18732  {u'user_mentions': [{u'indices': [3, 15], u'sc...   \n",
      "18733  {u'user_mentions': [{u'indices': [3, 15], u'sc...   \n",
      "18734  {u'user_mentions': [{u'indices': [3, 15], u'sc...   \n",
      "18735  {u'user_mentions': [{u'indices': [3, 15], u'sc...   \n",
      "18736  {u'user_mentions': [{u'indices': [3, 15], u'sc...   \n",
      "18737  {u'user_mentions': [{u'indices': [3, 15], u'sc...   \n",
      "18738  {u'user_mentions': [{u'indices': [3, 15], u'sc...   \n",
      "18739  {u'user_mentions': [{u'indices': [3, 15], u'sc...   \n",
      "18740  {u'user_mentions': [{u'indices': [3, 15], u'sc...   \n",
      "18741  {u'user_mentions': [{u'indices': [3, 15], u'sc...   \n",
      "18742  {u'user_mentions': [{u'indices': [3, 18], u'sc...   \n",
      "18743  {u'user_mentions': [{u'indices': [3, 15], u'sc...   \n",
      "18744  {u'user_mentions': [{u'indices': [3, 16], u'sc...   \n",
      "18745  {u'user_mentions': [{u'indices': [3, 15], u'sc...   \n",
      "18746  {u'user_mentions': [{u'indices': [3, 15], u'sc...   \n",
      "18747  {u'user_mentions': [{u'indices': [3, 15], u'sc...   \n",
      "18748  {u'user_mentions': [{u'indices': [3, 15], u'sc...   \n",
      "18749  {u'user_mentions': [{u'indices': [3, 15], u'sc...   \n",
      "18750  {u'user_mentions': [{u'indices': [3, 15], u'sc...   \n",
      "18751  {u'user_mentions': [{u'indices': [3, 15], u'sc...   \n",
      "18752  {u'user_mentions': [{u'indices': [3, 15], u'sc...   \n",
      "18753  {u'user_mentions': [], u'symbols': [], u'hasht...   \n",
      "18754  {u'user_mentions': [{u'indices': [3, 17], u'sc...   \n",
      "18755  {u'user_mentions': [{u'indices': [3, 13], u'sc...   \n",
      "\n",
      "                                       extended_entities  \\\n",
      "0                                                    NaN   \n",
      "1                                                    NaN   \n",
      "2                                                    NaN   \n",
      "3      {u'media': [{u'source_user_id': 134758540, u's...   \n",
      "4                                                    NaN   \n",
      "5      {u'media': [{u'source_user_id': 492154297, u's...   \n",
      "6      {u'media': [{u'expanded_url': u'https://twitte...   \n",
      "7      {u'media': [{u'expanded_url': u'https://twitte...   \n",
      "8                                                    NaN   \n",
      "9                                                    NaN   \n",
      "10                                                   NaN   \n",
      "11                                                   NaN   \n",
      "12                                                   NaN   \n",
      "13                                                   NaN   \n",
      "14     {u'media': [{u'source_user_id': 240649814, u's...   \n",
      "15     {u'media': [{u'source_user_id': 2570343312, u'...   \n",
      "16                                                   NaN   \n",
      "17                                                   NaN   \n",
      "18                                                   NaN   \n",
      "19                                                   NaN   \n",
      "20     {u'media': [{u'source_user_id': 4001094565, u'...   \n",
      "21                                                   NaN   \n",
      "22                                                   NaN   \n",
      "23                                                   NaN   \n",
      "24     {u'media': [{u'source_user_id': 1642135962, u'...   \n",
      "25                                                   NaN   \n",
      "26                                                   NaN   \n",
      "27                                                   NaN   \n",
      "28                                                   NaN   \n",
      "29                                                   NaN   \n",
      "...                                                  ...   \n",
      "18726  {u'media': [{u'source_user_id': 37034483, u'so...   \n",
      "18727                                                NaN   \n",
      "18728                                                NaN   \n",
      "18729  {u'media': [{u'source_user_id': 333888813, u's...   \n",
      "18730                                                NaN   \n",
      "18731                                                NaN   \n",
      "18732                                                NaN   \n",
      "18733                                                NaN   \n",
      "18734                                                NaN   \n",
      "18735                                                NaN   \n",
      "18736                                                NaN   \n",
      "18737                                                NaN   \n",
      "18738                                                NaN   \n",
      "18739                                                NaN   \n",
      "18740                                                NaN   \n",
      "18741                                                NaN   \n",
      "18742                                                NaN   \n",
      "18743                                                NaN   \n",
      "18744                                                NaN   \n",
      "18745                                                NaN   \n",
      "18746                                                NaN   \n",
      "18747                                                NaN   \n",
      "18748                                                NaN   \n",
      "18749                                                NaN   \n",
      "18750                                                NaN   \n",
      "18751                                                NaN   \n",
      "18752                                                NaN   \n",
      "18753                                                NaN   \n",
      "18754                                                NaN   \n",
      "18755                                                NaN   \n",
      "\n",
      "                                          extended_tweet  favorite_count  \\\n",
      "0                                                    NaN             0.0   \n",
      "1                                                    NaN             0.0   \n",
      "2                                                    NaN             0.0   \n",
      "3                                                    NaN             0.0   \n",
      "4                                                    NaN             0.0   \n",
      "5                                                    NaN             0.0   \n",
      "6                                                    NaN             0.0   \n",
      "7                                                    NaN             0.0   \n",
      "8                                                    NaN             0.0   \n",
      "9                                                    NaN             0.0   \n",
      "10                                                   NaN             0.0   \n",
      "11                                                   NaN             0.0   \n",
      "12                                                   NaN             0.0   \n",
      "13     {u'display_text_range': [0, 126], u'entities':...             0.0   \n",
      "14                                                   NaN             0.0   \n",
      "15                                                   NaN             0.0   \n",
      "16                                                   NaN             0.0   \n",
      "17                                                   NaN             0.0   \n",
      "18                                                   NaN             0.0   \n",
      "19                                                   NaN             0.0   \n",
      "20                                                   NaN             0.0   \n",
      "21                                                   NaN             0.0   \n",
      "22                                                   NaN             0.0   \n",
      "23                                                   NaN             0.0   \n",
      "24                                                   NaN             0.0   \n",
      "25                                                   NaN             0.0   \n",
      "26                                                   NaN             0.0   \n",
      "27                                                   NaN             0.0   \n",
      "28                                                   NaN             0.0   \n",
      "29                                                   NaN             0.0   \n",
      "...                                                  ...             ...   \n",
      "18726                                                NaN             0.0   \n",
      "18727                                                NaN             0.0   \n",
      "18728                                                NaN             0.0   \n",
      "18729                                                NaN             0.0   \n",
      "18730                                                NaN             0.0   \n",
      "18731                                                NaN             0.0   \n",
      "18732                                                NaN             0.0   \n",
      "18733                                                NaN             0.0   \n",
      "18734                                                NaN             0.0   \n",
      "18735                                                NaN             0.0   \n",
      "18736                                                NaN             0.0   \n",
      "18737                                                NaN             0.0   \n",
      "18738                                                NaN             0.0   \n",
      "18739                                                NaN             0.0   \n",
      "18740                                                NaN             0.0   \n",
      "18741                                                NaN             0.0   \n",
      "18742                                                NaN             0.0   \n",
      "18743                                                NaN             0.0   \n",
      "18744                                                NaN             0.0   \n",
      "18745                                                NaN             0.0   \n",
      "18746                                                NaN             0.0   \n",
      "18747                                                NaN             0.0   \n",
      "18748                                                NaN             0.0   \n",
      "18749                                                NaN             0.0   \n",
      "18750                                                NaN             0.0   \n",
      "18751                                                NaN             0.0   \n",
      "18752                                                NaN             0.0   \n",
      "18753                                                NaN             0.0   \n",
      "18754                                                NaN             0.0   \n",
      "18755                                                NaN             0.0   \n",
      "\n",
      "       favorited filter_level  \\\n",
      "0            0.0          low   \n",
      "1            0.0          low   \n",
      "2            0.0          low   \n",
      "3            0.0          low   \n",
      "4            0.0          low   \n",
      "5            0.0          low   \n",
      "6            0.0          low   \n",
      "7            0.0          low   \n",
      "8            0.0          low   \n",
      "9            0.0          low   \n",
      "10           0.0          low   \n",
      "11           0.0          low   \n",
      "12           0.0          low   \n",
      "13           0.0          low   \n",
      "14           0.0          low   \n",
      "15           0.0          low   \n",
      "16           0.0          low   \n",
      "17           0.0          low   \n",
      "18           0.0          low   \n",
      "19           0.0          low   \n",
      "20           0.0          low   \n",
      "21           0.0          low   \n",
      "22           0.0          low   \n",
      "23           0.0          low   \n",
      "24           0.0          low   \n",
      "25           0.0          low   \n",
      "26           0.0          low   \n",
      "27           0.0          low   \n",
      "28           0.0          low   \n",
      "29           0.0          low   \n",
      "...          ...          ...   \n",
      "18726        0.0          low   \n",
      "18727        0.0          low   \n",
      "18728        0.0          low   \n",
      "18729        0.0          low   \n",
      "18730        0.0          low   \n",
      "18731        0.0          low   \n",
      "18732        0.0          low   \n",
      "18733        0.0          low   \n",
      "18734        0.0          low   \n",
      "18735        0.0          low   \n",
      "18736        0.0          low   \n",
      "18737        0.0          low   \n",
      "18738        0.0          low   \n",
      "18739        0.0          low   \n",
      "18740        0.0          low   \n",
      "18741        0.0          low   \n",
      "18742        0.0          low   \n",
      "18743        0.0          low   \n",
      "18744        0.0          low   \n",
      "18745        0.0          low   \n",
      "18746        0.0          low   \n",
      "18747        0.0          low   \n",
      "18748        0.0          low   \n",
      "18749        0.0          low   \n",
      "18750        0.0          low   \n",
      "18751        0.0          low   \n",
      "18752        0.0          low   \n",
      "18753        0.0          low   \n",
      "18754        0.0          low   \n",
      "18755        0.0          low   \n",
      "\n",
      "                             ...                         quoted_status_id  \\\n",
      "0                            ...                                      NaN   \n",
      "1                            ...                                      NaN   \n",
      "2                            ...                                      NaN   \n",
      "3                            ...                                      NaN   \n",
      "4                            ...                                      NaN   \n",
      "5                            ...                                      NaN   \n",
      "6                            ...                                      NaN   \n",
      "7                            ...                                      NaN   \n",
      "8                            ...                                      NaN   \n",
      "9                            ...                                      NaN   \n",
      "10                           ...                                      NaN   \n",
      "11                           ...                                      NaN   \n",
      "12                           ...                                      NaN   \n",
      "13                           ...                                      NaN   \n",
      "14                           ...                                      NaN   \n",
      "15                           ...                                      NaN   \n",
      "16                           ...                                      NaN   \n",
      "17                           ...                             8.059794e+17   \n",
      "18                           ...                                      NaN   \n",
      "19                           ...                                      NaN   \n",
      "20                           ...                                      NaN   \n",
      "21                           ...                             8.058573e+17   \n",
      "22                           ...                                      NaN   \n",
      "23                           ...                                      NaN   \n",
      "24                           ...                                      NaN   \n",
      "25                           ...                                      NaN   \n",
      "26                           ...                                      NaN   \n",
      "27                           ...                                      NaN   \n",
      "28                           ...                                      NaN   \n",
      "29                           ...                             8.039612e+17   \n",
      "...                          ...                                      ...   \n",
      "18726                        ...                                      NaN   \n",
      "18727                        ...                                      NaN   \n",
      "18728                        ...                                      NaN   \n",
      "18729                        ...                                      NaN   \n",
      "18730                        ...                                      NaN   \n",
      "18731                        ...                                      NaN   \n",
      "18732                        ...                                      NaN   \n",
      "18733                        ...                                      NaN   \n",
      "18734                        ...                                      NaN   \n",
      "18735                        ...                                      NaN   \n",
      "18736                        ...                                      NaN   \n",
      "18737                        ...                                      NaN   \n",
      "18738                        ...                                      NaN   \n",
      "18739                        ...                                      NaN   \n",
      "18740                        ...                                      NaN   \n",
      "18741                        ...                                      NaN   \n",
      "18742                        ...                                      NaN   \n",
      "18743                        ...                                      NaN   \n",
      "18744                        ...                                      NaN   \n",
      "18745                        ...                                      NaN   \n",
      "18746                        ...                                      NaN   \n",
      "18747                        ...                                      NaN   \n",
      "18748                        ...                                      NaN   \n",
      "18749                        ...                                      NaN   \n",
      "18750                        ...                                      NaN   \n",
      "18751                        ...                                      NaN   \n",
      "18752                        ...                                      NaN   \n",
      "18753                        ...                                      NaN   \n",
      "18754                        ...                                      NaN   \n",
      "18755                        ...                             8.059794e+17   \n",
      "\n",
      "       quoted_status_id_str  retweet_count retweeted  \\\n",
      "0                       NaN            0.0       0.0   \n",
      "1                       NaN            0.0       0.0   \n",
      "2                       NaN            0.0       0.0   \n",
      "3                       NaN            0.0       0.0   \n",
      "4                       NaN            0.0       0.0   \n",
      "5                       NaN            0.0       0.0   \n",
      "6                       NaN            0.0       0.0   \n",
      "7                       NaN            0.0       0.0   \n",
      "8                       NaN            0.0       0.0   \n",
      "9                       NaN            0.0       0.0   \n",
      "10                      NaN            0.0       0.0   \n",
      "11                      NaN            0.0       0.0   \n",
      "12                      NaN            0.0       0.0   \n",
      "13                      NaN            0.0       0.0   \n",
      "14                      NaN            0.0       0.0   \n",
      "15                      NaN            0.0       0.0   \n",
      "16                      NaN            0.0       0.0   \n",
      "17             8.059794e+17            0.0       0.0   \n",
      "18                      NaN            0.0       0.0   \n",
      "19                      NaN            0.0       0.0   \n",
      "20                      NaN            0.0       0.0   \n",
      "21             8.058573e+17            0.0       0.0   \n",
      "22                      NaN            0.0       0.0   \n",
      "23                      NaN            0.0       0.0   \n",
      "24                      NaN            0.0       0.0   \n",
      "25                      NaN            0.0       0.0   \n",
      "26                      NaN            0.0       0.0   \n",
      "27                      NaN            0.0       0.0   \n",
      "28                      NaN            0.0       0.0   \n",
      "29             8.039612e+17            0.0       0.0   \n",
      "...                     ...            ...       ...   \n",
      "18726                   NaN            0.0       0.0   \n",
      "18727                   NaN            0.0       0.0   \n",
      "18728                   NaN            0.0       0.0   \n",
      "18729                   NaN            0.0       0.0   \n",
      "18730                   NaN            0.0       0.0   \n",
      "18731                   NaN            0.0       0.0   \n",
      "18732                   NaN            0.0       0.0   \n",
      "18733                   NaN            0.0       0.0   \n",
      "18734                   NaN            0.0       0.0   \n",
      "18735                   NaN            0.0       0.0   \n",
      "18736                   NaN            0.0       0.0   \n",
      "18737                   NaN            0.0       0.0   \n",
      "18738                   NaN            0.0       0.0   \n",
      "18739                   NaN            0.0       0.0   \n",
      "18740                   NaN            0.0       0.0   \n",
      "18741                   NaN            0.0       0.0   \n",
      "18742                   NaN            0.0       0.0   \n",
      "18743                   NaN            0.0       0.0   \n",
      "18744                   NaN            0.0       0.0   \n",
      "18745                   NaN            0.0       0.0   \n",
      "18746                   NaN            0.0       0.0   \n",
      "18747                   NaN            0.0       0.0   \n",
      "18748                   NaN            0.0       0.0   \n",
      "18749                   NaN            0.0       0.0   \n",
      "18750                   NaN            0.0       0.0   \n",
      "18751                   NaN            0.0       0.0   \n",
      "18752                   NaN            0.0       0.0   \n",
      "18753                   NaN            0.0       0.0   \n",
      "18754                   NaN            0.0       0.0   \n",
      "18755          8.059794e+17            0.0       0.0   \n",
      "\n",
      "                                        retweeted_status  \\\n",
      "0      {u'contributors': None, u'truncated': True, u'...   \n",
      "1      {u'contributors': None, u'truncated': False, u...   \n",
      "2      {u'contributors': None, u'truncated': False, u...   \n",
      "3      {u'contributors': None, u'truncated': False, u...   \n",
      "4                                                    NaN   \n",
      "5      {u'contributors': None, u'truncated': False, u...   \n",
      "6                                                    NaN   \n",
      "7                                                    NaN   \n",
      "8                                                    NaN   \n",
      "9                                                    NaN   \n",
      "10     {u'contributors': None, u'truncated': False, u...   \n",
      "11                                                   NaN   \n",
      "12     {u'contributors': None, u'truncated': False, u...   \n",
      "13                                                   NaN   \n",
      "14     {u'contributors': None, u'truncated': False, u...   \n",
      "15     {u'contributors': None, u'truncated': False, u...   \n",
      "16                                                   NaN   \n",
      "17     {u'contributors': None, u'truncated': False, u...   \n",
      "18     {u'contributors': None, u'truncated': False, u...   \n",
      "19                                                   NaN   \n",
      "20     {u'contributors': None, u'truncated': False, u...   \n",
      "21     {u'contributors': None, u'truncated': False, u...   \n",
      "22     {u'contributors': None, u'truncated': False, u...   \n",
      "23     {u'contributors': None, u'truncated': False, u...   \n",
      "24     {u'contributors': None, u'truncated': False, u...   \n",
      "25                                                   NaN   \n",
      "26                                                   NaN   \n",
      "27                                                   NaN   \n",
      "28                                                   NaN   \n",
      "29     {u'contributors': None, u'truncated': True, u'...   \n",
      "...                                                  ...   \n",
      "18726  {u'contributors': None, u'truncated': False, u...   \n",
      "18727  {u'contributors': None, u'truncated': False, u...   \n",
      "18728  {u'contributors': None, u'truncated': True, u'...   \n",
      "18729                                                NaN   \n",
      "18730  {u'contributors': None, u'truncated': False, u...   \n",
      "18731  {u'contributors': None, u'truncated': False, u...   \n",
      "18732  {u'contributors': None, u'truncated': False, u...   \n",
      "18733  {u'contributors': None, u'truncated': False, u...   \n",
      "18734  {u'contributors': None, u'truncated': False, u...   \n",
      "18735  {u'contributors': None, u'truncated': False, u...   \n",
      "18736  {u'contributors': None, u'truncated': False, u...   \n",
      "18737  {u'contributors': None, u'truncated': False, u...   \n",
      "18738  {u'contributors': None, u'truncated': True, u'...   \n",
      "18739  {u'contributors': None, u'truncated': False, u...   \n",
      "18740  {u'contributors': None, u'truncated': False, u...   \n",
      "18741  {u'contributors': None, u'truncated': False, u...   \n",
      "18742  {u'contributors': None, u'truncated': False, u...   \n",
      "18743  {u'contributors': None, u'truncated': False, u...   \n",
      "18744  {u'contributors': None, u'truncated': False, u...   \n",
      "18745  {u'contributors': None, u'truncated': False, u...   \n",
      "18746  {u'contributors': None, u'truncated': False, u...   \n",
      "18747  {u'contributors': None, u'truncated': False, u...   \n",
      "18748  {u'contributors': None, u'truncated': False, u...   \n",
      "18749  {u'contributors': None, u'truncated': False, u...   \n",
      "18750  {u'contributors': None, u'truncated': False, u...   \n",
      "18751  {u'contributors': None, u'truncated': False, u...   \n",
      "18752  {u'contributors': None, u'truncated': False, u...   \n",
      "18753                                                NaN   \n",
      "18754  {u'contributors': None, u'truncated': True, u'...   \n",
      "18755  {u'contributors': None, u'truncated': False, u...   \n",
      "\n",
      "                                                  source  \\\n",
      "0      <a href=\"http://twitter.com/download/android\" ...   \n",
      "1      <a href=\"http://twitter.com/download/android\" ...   \n",
      "2      <a href=\"http://twitter.com/download/iphone\" r...   \n",
      "3      <a href=\"http://twitter.com/download/android\" ...   \n",
      "4      <a href=\"http://www.twitter.com\" rel=\"nofollow...   \n",
      "5      <a href=\"http://twitter.com\" rel=\"nofollow\">Tw...   \n",
      "6      <a href=\"http://tweepsmap.com\" rel=\"nofollow\">...   \n",
      "7      <a href=\"http://dlvr.it\" rel=\"nofollow\">dlvr.i...   \n",
      "8      <a href=\"http://www.google.com/\" rel=\"nofollow...   \n",
      "9      <a href=\"http://twitter.com\" rel=\"nofollow\">Tw...   \n",
      "10     <a href=\"http://twitter.com\" rel=\"nofollow\">Tw...   \n",
      "11     <a href=\"http://www.facebook.com/twitter\" rel=...   \n",
      "12     <a href=\"http://twitter.com/download/android\" ...   \n",
      "13     <a href=\"http://twitter.com/download/iphone\" r...   \n",
      "14     <a href=\"http://twitter.com/download/android\" ...   \n",
      "15     <a href=\"http://twitter.com/download/android\" ...   \n",
      "16     <a href=\"http://twitter.com/download/android\" ...   \n",
      "17     <a href=\"http://twitter.com/download/android\" ...   \n",
      "18     <a href=\"http://twitter.com/download/android\" ...   \n",
      "19     <a href=\"http://ifttt.com\" rel=\"nofollow\">IFTT...   \n",
      "20     <a href=\"http://twitter.com/download/android\" ...   \n",
      "21     <a href=\"http://twitter.com/download/android\" ...   \n",
      "22     <a href=\"https://mobile.twitter.com\" rel=\"nofo...   \n",
      "23     <a href=\"http://www.clubsofa.org\" rel=\"nofollo...   \n",
      "24     <a href=\"http://twitter.com/download/iphone\" r...   \n",
      "25     <a href=\"http://latiendadejm.com\" rel=\"nofollo...   \n",
      "26     <a href=\"http://twitter.com\" rel=\"nofollow\">Tw...   \n",
      "27     <a href=\"http://latiendadejm.com\" rel=\"nofollo...   \n",
      "28     <a href=\"http://paper.li\" rel=\"nofollow\">Paper...   \n",
      "29     <a href=\"http://twitter.com/download/android\" ...   \n",
      "...                                                  ...   \n",
      "18726  <a href=\"http://twitter.com/download/iphone\" r...   \n",
      "18727  <a href=\"https://about.twitter.com/products/tw...   \n",
      "18728  <a href=\"http://twitter.com/download/android\" ...   \n",
      "18729  <a href=\"http://ifttt.com\" rel=\"nofollow\">IFTT...   \n",
      "18730  <a href=\"https://about.twitter.com/products/tw...   \n",
      "18731  <a href=\"https://about.twitter.com/products/tw...   \n",
      "18732  <a href=\"https://about.twitter.com/products/tw...   \n",
      "18733  <a href=\"https://about.twitter.com/products/tw...   \n",
      "18734  <a href=\"https://about.twitter.com/products/tw...   \n",
      "18735  <a href=\"https://about.twitter.com/products/tw...   \n",
      "18736  <a href=\"https://about.twitter.com/products/tw...   \n",
      "18737  <a href=\"https://about.twitter.com/products/tw...   \n",
      "18738  <a href=\"http://twitter.com\" rel=\"nofollow\">Tw...   \n",
      "18739  <a href=\"https://about.twitter.com/products/tw...   \n",
      "18740  <a href=\"https://about.twitter.com/products/tw...   \n",
      "18741  <a href=\"https://about.twitter.com/products/tw...   \n",
      "18742  <a href=\"http://twitter.com/download/iphone\" r...   \n",
      "18743  <a href=\"https://about.twitter.com/products/tw...   \n",
      "18744  <a href=\"http://twitter.com/download/android\" ...   \n",
      "18745  <a href=\"https://about.twitter.com/products/tw...   \n",
      "18746  <a href=\"https://about.twitter.com/products/tw...   \n",
      "18747  <a href=\"https://about.twitter.com/products/tw...   \n",
      "18748  <a href=\"https://about.twitter.com/products/tw...   \n",
      "18749  <a href=\"https://about.twitter.com/products/tw...   \n",
      "18750  <a href=\"https://about.twitter.com/products/tw...   \n",
      "18751  <a href=\"https://about.twitter.com/products/tw...   \n",
      "18752  <a href=\"https://about.twitter.com/products/tw...   \n",
      "18753  <a href=\"http://www.jobs.as/\" rel=\"nofollow\">J...   \n",
      "18754  <a href=\"http://twitter.com/download/android\" ...   \n",
      "18755  <a href=\"http://twitter.com/download/android\" ...   \n",
      "\n",
      "                                                    text  \\\n",
      "0      RT @EleanorH2O: We do amazing work in #India o...   \n",
      "1      RT @narendramodi: I bow to Dr. Babasaheb Ambed...   \n",
      "2      RT @narendramodi: I bow to Dr. Babasaheb Ambed...   \n",
      "3      RT @timesofindia: TN CM Jayalalithaa's death: ...   \n",
      "4      India mourns the loss of a leader but the peop...   \n",
      "5      RT @JaagAlerts: India unlikely to produce F16s...   \n",
      "6      I have 450 new followers from India, Banglades...   \n",
      "7      OMG! Customs Intercepts Container Of Jollof Ri...   \n",
      "8      India Jayalalitha: Thousands mourn colourful p...   \n",
      "9      @Ashwinyiyer Awaiting your film to arrive @ ne...   \n",
      "10     RT @yashar: Friendly reminder: Pakistan and In...   \n",
      "11       https://t.co/xQPr7tLTWT https://t.co/1XcFrk2fuJ   \n",
      "12     RT @SaranMufc_: Black day for India. #RIPJayal...   \n",
      "13     Carnegie India 'where technology meets policy'...   \n",
      "14     RT @TimesNow: VIDEO: The end of a era, India m...   \n",
      "15     RT @PrabhasRaju: #BaahubaliTops2015 Trending T...   \n",
      "16     @sardesairajdeep @suhelseth Did he also remind...   \n",
      "17     RT @Vija_crazyNalls: இந்த மாதிரி ஈனபிறவிங்க அவ...   \n",
      "18     RT @poojakamal7: Really Sad news for people's ...   \n",
      "19     J Jayalalithaa death: Rajinikanth, Shah Rukh K...   \n",
      "20     RT @offl_Lawrence: May your soul Rest In Peace...   \n",
      "21     RT @TandonRaveena: #RIPAmma. What a Remarkable...   \n",
      "22     RT @brumbyOz: Given the standard of politics i...   \n",
      "23     RT @_pooja_jagtap: RT EconomicTimes: Chinese f...   \n",
      "24     RT @BBCNewsAsia: Grief as India's 'Iron Lady' ...   \n",
      "25     India Jayalalitha: Thousands mourn colourful p...   \n",
      "26     Central govt announces one-day mourning after ...   \n",
      "27     India Jayalalitha: Thousands mourn colourful p...   \n",
      "28     The latest India Emancipated! https://t.co/AFf...   \n",
      "29     RT @SushmaSwaraj: We have brought him back to ...   \n",
      "...                                                  ...   \n",
      "18726  RT @ndtv: .@ArvindKejriwal to visit Chennai to...   \n",
      "18727  RT @PiyushGoyal: Govt is working to ensure tha...   \n",
      "18728  RT @IndiaToday: #AmmaForever\\nJ Jayalalithaa t...   \n",
      "18729  RT abpnewshindi \"जयललिता के जीवन के सफर की ऐसी...   \n",
      "18730  RT @PiyushGoyal: Govt is working to ensure tha...   \n",
      "18731  RT @PiyushGoyal: Govt is working to ensure tha...   \n",
      "18732  RT @PiyushGoyal: Govt is working to ensure tha...   \n",
      "18733  RT @PiyushGoyal: Govt is working to ensure tha...   \n",
      "18734  RT @PiyushGoyal: Govt is working to ensure tha...   \n",
      "18735  RT @PiyushGoyal: Govt is working to ensure tha...   \n",
      "18736  RT @PiyushGoyal: Govt is working to ensure tha...   \n",
      "18737  RT @PiyushGoyal: Govt is working to ensure tha...   \n",
      "18738  RT @E_DinarCoin: Брендированные стикеры E-Dina...   \n",
      "18739  RT @PiyushGoyal: Govt is working to ensure tha...   \n",
      "18740  RT @PiyushGoyal: Govt is working to ensure tha...   \n",
      "18741  RT @PiyushGoyal: Govt is working to ensure tha...   \n",
      "18742  RT @IndianInterest: India needs fighter planes...   \n",
      "18743  RT @PiyushGoyal: Govt is working to ensure tha...   \n",
      "18744  RT @narendramodi: I bow to Dr. Babasaheb Ambed...   \n",
      "18745  RT @PiyushGoyal: Govt is working to ensure tha...   \n",
      "18746  RT @PiyushGoyal: Govt is working to ensure tha...   \n",
      "18747  RT @PiyushGoyal: Govt is working to ensure tha...   \n",
      "18748  RT @PiyushGoyal: Govt is working to ensure tha...   \n",
      "18749  RT @PiyushGoyal: Govt is working to ensure tha...   \n",
      "18750  RT @PiyushGoyal: Govt is working to ensure tha...   \n",
      "18751  RT @PiyushGoyal: Govt is working to ensure tha...   \n",
      "18752  RT @PiyushGoyal: Govt is working to ensure tha...   \n",
      "18753  SuccessFactors: Developer - ABAP (Bengaluru, K...   \n",
      "18754  RT @iamlakshmirai: May ur soul rest in peace #...   \n",
      "18755  RT @AlwaysKNA: இது எவ்ளோ பெரிய கேவலம் தெரியுமா...   \n",
      "\n",
      "                 timestamp_ms  truncated  \\\n",
      "0     2016-12-06 04:05:22.985        0.0   \n",
      "1     2016-12-06 04:05:23.229        0.0   \n",
      "2     2016-12-06 04:05:23.972        0.0   \n",
      "3     2016-12-06 04:05:24.350        0.0   \n",
      "4     2016-12-06 04:05:24.904        0.0   \n",
      "5     2016-12-06 04:05:24.882        0.0   \n",
      "6     2016-12-06 04:05:24.748        0.0   \n",
      "7     2016-12-06 04:05:24.595        0.0   \n",
      "8     2016-12-06 04:05:25.531        0.0   \n",
      "9     2016-12-06 04:05:25.814        0.0   \n",
      "10    2016-12-06 04:05:26.125        0.0   \n",
      "11    2016-12-06 04:05:26.706        0.0   \n",
      "12    2016-12-06 04:05:27.784        0.0   \n",
      "13    2016-12-06 04:05:27.298        1.0   \n",
      "14    2016-12-06 04:05:28.004        0.0   \n",
      "15    2016-12-06 04:05:28.028        0.0   \n",
      "16    2016-12-06 04:05:28.018        0.0   \n",
      "17    2016-12-06 04:05:27.972        0.0   \n",
      "18    2016-12-06 04:05:27.924        0.0   \n",
      "19    2016-12-06 04:05:28.914        0.0   \n",
      "20    2016-12-06 04:05:29.251        0.0   \n",
      "21    2016-12-06 04:05:29.241        0.0   \n",
      "22    2016-12-06 04:05:29.684        0.0   \n",
      "23    2016-12-06 04:05:29.885        0.0   \n",
      "24    2016-12-06 04:05:29.775        0.0   \n",
      "25    2016-12-06 04:05:29.852        0.0   \n",
      "26    2016-12-06 04:05:30.433        0.0   \n",
      "27    2016-12-06 04:05:30.371        0.0   \n",
      "28    2016-12-06 04:05:30.336        0.0   \n",
      "29    2016-12-06 04:05:30.582        0.0   \n",
      "...                       ...        ...   \n",
      "18726 2016-12-06 05:19:03.918        0.0   \n",
      "18727 2016-12-06 05:19:03.383        0.0   \n",
      "18728 2016-12-06 05:19:03.936        0.0   \n",
      "18729 2016-12-06 05:19:04.171        0.0   \n",
      "18730 2016-12-06 05:19:04.356        0.0   \n",
      "18731 2016-12-06 05:19:04.340        0.0   \n",
      "18732 2016-12-06 05:19:04.357        0.0   \n",
      "18733 2016-12-06 05:19:04.402        0.0   \n",
      "18734 2016-12-06 05:19:04.340        0.0   \n",
      "18735 2016-12-06 05:19:04.403        0.0   \n",
      "18736 2016-12-06 05:19:04.401        0.0   \n",
      "18737 2016-12-06 05:19:04.400        0.0   \n",
      "18738 2016-12-06 05:19:04.342        0.0   \n",
      "18739 2016-12-06 05:19:04.343        0.0   \n",
      "18740 2016-12-06 05:19:04.371        0.0   \n",
      "18741 2016-12-06 05:19:04.356        0.0   \n",
      "18742 2016-12-06 05:19:04.418        0.0   \n",
      "18743 2016-12-06 05:19:04.356        0.0   \n",
      "18744 2016-12-06 05:19:04.486        0.0   \n",
      "18745 2016-12-06 05:19:04.358        0.0   \n",
      "18746 2016-12-06 05:19:04.386        0.0   \n",
      "18747 2016-12-06 05:19:04.478        0.0   \n",
      "18748 2016-12-06 05:19:04.622        0.0   \n",
      "18749 2016-12-06 05:19:04.623        0.0   \n",
      "18750 2016-12-06 05:19:04.621        0.0   \n",
      "18751 2016-12-06 05:19:04.623        0.0   \n",
      "18752 2016-12-06 05:19:04.623        0.0   \n",
      "18753 2016-12-06 05:19:04.895        0.0   \n",
      "18754 2016-12-06 05:19:05.054        0.0   \n",
      "18755 2016-12-06 05:19:05.176        0.0   \n",
      "\n",
      "                                                    user  \n",
      "0      {u'follow_request_sent': None, u'profile_use_b...  \n",
      "1      {u'follow_request_sent': None, u'profile_use_b...  \n",
      "2      {u'follow_request_sent': None, u'profile_use_b...  \n",
      "3      {u'follow_request_sent': None, u'profile_use_b...  \n",
      "4      {u'follow_request_sent': None, u'profile_use_b...  \n",
      "5      {u'follow_request_sent': None, u'profile_use_b...  \n",
      "6      {u'follow_request_sent': None, u'profile_use_b...  \n",
      "7      {u'follow_request_sent': None, u'profile_use_b...  \n",
      "8      {u'follow_request_sent': None, u'profile_use_b...  \n",
      "9      {u'follow_request_sent': None, u'profile_use_b...  \n",
      "10     {u'follow_request_sent': None, u'profile_use_b...  \n",
      "11     {u'follow_request_sent': None, u'profile_use_b...  \n",
      "12     {u'follow_request_sent': None, u'profile_use_b...  \n",
      "13     {u'follow_request_sent': None, u'profile_use_b...  \n",
      "14     {u'follow_request_sent': None, u'profile_use_b...  \n",
      "15     {u'follow_request_sent': None, u'profile_use_b...  \n",
      "16     {u'follow_request_sent': None, u'profile_use_b...  \n",
      "17     {u'follow_request_sent': None, u'profile_use_b...  \n",
      "18     {u'follow_request_sent': None, u'profile_use_b...  \n",
      "19     {u'follow_request_sent': None, u'profile_use_b...  \n",
      "20     {u'follow_request_sent': None, u'profile_use_b...  \n",
      "21     {u'follow_request_sent': None, u'profile_use_b...  \n",
      "22     {u'follow_request_sent': None, u'profile_use_b...  \n",
      "23     {u'follow_request_sent': None, u'profile_use_b...  \n",
      "24     {u'follow_request_sent': None, u'profile_use_b...  \n",
      "25     {u'follow_request_sent': None, u'profile_use_b...  \n",
      "26     {u'follow_request_sent': None, u'profile_use_b...  \n",
      "27     {u'follow_request_sent': None, u'profile_use_b...  \n",
      "28     {u'follow_request_sent': None, u'profile_use_b...  \n",
      "29     {u'follow_request_sent': None, u'profile_use_b...  \n",
      "...                                                  ...  \n",
      "18726  {u'follow_request_sent': None, u'profile_use_b...  \n",
      "18727  {u'follow_request_sent': None, u'profile_use_b...  \n",
      "18728  {u'follow_request_sent': None, u'profile_use_b...  \n",
      "18729  {u'follow_request_sent': None, u'profile_use_b...  \n",
      "18730  {u'follow_request_sent': None, u'profile_use_b...  \n",
      "18731  {u'follow_request_sent': None, u'profile_use_b...  \n",
      "18732  {u'follow_request_sent': None, u'profile_use_b...  \n",
      "18733  {u'follow_request_sent': None, u'profile_use_b...  \n",
      "18734  {u'follow_request_sent': None, u'profile_use_b...  \n",
      "18735  {u'follow_request_sent': None, u'profile_use_b...  \n",
      "18736  {u'follow_request_sent': None, u'profile_use_b...  \n",
      "18737  {u'follow_request_sent': None, u'profile_use_b...  \n",
      "18738  {u'follow_request_sent': None, u'profile_use_b...  \n",
      "18739  {u'follow_request_sent': None, u'profile_use_b...  \n",
      "18740  {u'follow_request_sent': None, u'profile_use_b...  \n",
      "18741  {u'follow_request_sent': None, u'profile_use_b...  \n",
      "18742  {u'follow_request_sent': None, u'profile_use_b...  \n",
      "18743  {u'follow_request_sent': None, u'profile_use_b...  \n",
      "18744  {u'follow_request_sent': None, u'profile_use_b...  \n",
      "18745  {u'follow_request_sent': None, u'profile_use_b...  \n",
      "18746  {u'follow_request_sent': None, u'profile_use_b...  \n",
      "18747  {u'follow_request_sent': None, u'profile_use_b...  \n",
      "18748  {u'follow_request_sent': None, u'profile_use_b...  \n",
      "18749  {u'follow_request_sent': None, u'profile_use_b...  \n",
      "18750  {u'follow_request_sent': None, u'profile_use_b...  \n",
      "18751  {u'follow_request_sent': None, u'profile_use_b...  \n",
      "18752  {u'follow_request_sent': None, u'profile_use_b...  \n",
      "18753  {u'follow_request_sent': None, u'profile_use_b...  \n",
      "18754  {u'follow_request_sent': None, u'profile_use_b...  \n",
      "18755  {u'follow_request_sent': None, u'profile_use_b...  \n",
      "\n",
      "[18756 rows x 34 columns]\n"
     ]
    }
   ],
   "source": [
    "print df"
   ]
  },
  {
   "cell_type": "code",
   "execution_count": 12,
   "metadata": {
    "collapsed": false,
    "scrolled": true
   },
   "outputs": [
    {
     "name": "stdout",
     "output_type": "stream",
     "text": [
      "Number of total tweets that were rate-limited 1\n",
      "Total number of limit notices 1\n"
     ]
    }
   ],
   "source": [
    "print \"Number of total tweets that were rate-limited\", sum([ln['track'] for ln in limit_notices.limit])\n",
    "print \"Total number of limit notices\", len(limit_notices)"
   ]
  },
  {
   "cell_type": "markdown",
   "metadata": {},
   "source": [
    "Some Time Series Analysis"
   ]
  },
  {
   "cell_type": "code",
   "execution_count": 13,
   "metadata": {
    "collapsed": false
   },
   "outputs": [],
   "source": [
    "df.set_index('created_at', drop=False, inplace=True)\n"
   ]
  },
  {
   "cell_type": "code",
   "execution_count": 14,
   "metadata": {
    "collapsed": false
   },
   "outputs": [
    {
     "name": "stdout",
     "output_type": "stream",
     "text": [
      "Created date/time index on tweets\n"
     ]
    }
   ],
   "source": [
    "print \"Created date/time index on tweets\""
   ]
  },
  {
   "cell_type": "code",
   "execution_count": 15,
   "metadata": {
    "collapsed": false
   },
   "outputs": [
    {
     "name": "stdout",
     "output_type": "stream",
     "text": [
      "First tweet timestamp (UTC) 2016-12-06 04:05:22\n",
      "Last tweet timestamp (UTC)  2016-12-06 05:19:05\n"
     ]
    }
   ],
   "source": [
    "print \"First tweet timestamp (UTC)\", df['created_at'][0]\n",
    "print \"Last tweet timestamp (UTC) \", df['created_at'][-1]"
   ]
  },
  {
   "cell_type": "code",
   "execution_count": 16,
   "metadata": {
    "collapsed": false
   },
   "outputs": [
    {
     "name": "stdout",
     "output_type": "stream",
     "text": [
      "Number of relevant tweets by the hour (UTC)\n",
      "\n",
      "4 13778 *************\n",
      "5 4978 ****\n"
     ]
    }
   ],
   "source": [
    "grouped = df.groupby(lambda x: x.hour)\n",
    "\n",
    "print \"Number of relevant tweets by the hour (UTC)\"\n",
    "print\n",
    "\n",
    "for hour, group in grouped:\n",
    "    print hour, len(group), '*'*(len(group) / 1000)"
   ]
  },
  {
   "cell_type": "code",
   "execution_count": 17,
   "metadata": {
    "collapsed": false,
    "scrolled": true
   },
   "outputs": [
    {
     "name": "stdout",
     "output_type": "stream",
     "text": [
      "Number of relevant tweets by intervals (UTC)\n",
      "\n",
      "(4, '0-15') 2344 \t***********\n",
      "(4, '16-30') 3847 \t*******************\n",
      "(4, '31-45') 4020 \t********************\n",
      "(4, '46-00') 3567 \t*****************\n",
      "(5, '0-15') 4177 \t********************\n",
      "(5, '16-30') 801 \t****\n"
     ]
    }
   ],
   "source": [
    "\n",
    "def group_by_15_min_intervals(x):\n",
    "    if   0 <= x.minute <= 15: return (x.hour, \"0-15\")\n",
    "    elif 15 < x.minute <= 30: return (x.hour, \"16-30\")\n",
    "    elif 30 < x.minute <= 45: return (x.hour, \"31-45\")\n",
    "    else: return (x.hour, \"46-00\")\n",
    "\n",
    "\n",
    "grouped = df.groupby(lambda x: group_by_15_min_intervals(x))\n",
    "\n",
    "print \"Number of relevant tweets by intervals (UTC)\"\n",
    "print\n",
    "\n",
    "for interval, group in grouped:\n",
    "    print interval, len(group), \"\\t\", '*'*(len(group) / 200)\n"
   ]
  },
  {
   "cell_type": "code",
   "execution_count": 18,
   "metadata": {
    "collapsed": false
   },
   "outputs": [
    {
     "name": "stdout",
     "output_type": "stream",
     "text": [
      "\n",
      "Most frequent (top 25) authors of tweets\n",
      "khalidrafiq138\t69\n",
      "trendinaliaIN\t36\n",
      "CLASSI_BOOK\t30\n",
      "gdhanushkraja\t29\n",
      "lautanjobs\t29\n",
      "shasidsan\t25\n",
      "ANC_News2\t25\n",
      "MechanicalBaba\t21\n",
      "56perumal\t21\n",
      "Aruhisen20_Fair\t21\n",
      "akashdhamija1\t20\n",
      "ShaikShafi\t20\n",
      "wfhInd\t19\n",
      "Prabhakar2July\t19\n",
      "mw569256\t18\n",
      "worksforindia\t18\n",
      "Real_Trending\t18\n",
      "SbSdesi\t18\n",
      "AwareIndians\t18\n",
      "mohitsmartlove\t17\n",
      "NARPATSHETH\t17\n",
      "Cricketify_Live\t16\n",
      "CrweWorld\t16\n",
      "ranaalikash\t16\n",
      "AcheDinAaneWale\t15\n",
      "\n",
      "There are 13023 unique authors out of 18756 tweets\n"
     ]
    }
   ],
   "source": [
    "from collections import Counter\n",
    "\n",
    "\n",
    "user_col = df.pop('user').apply(pd.Series)\n",
    "\n",
    "authors = user_col.screen_name\n",
    "\n",
    "authors_counter = Counter(authors.values)\n",
    "\n",
    "print\n",
    "print \"Most frequent (top 25) authors of tweets\"\n",
    "print '\\n'.join([\"{0}\\t{1}\".format(a, f) for a, f in authors_counter.most_common(25)])\n",
    "print\n",
    "\n",
    "# Get only the unique authors\n",
    "\n",
    "num_unique_authors = len(set(authors.values))\n",
    "print \"There are {0} unique authors out of {1} tweets\".format(num_unique_authors, len(df))"
   ]
  },
  {
   "cell_type": "markdown",
   "metadata": {},
   "source": [
    "Count of Languages tweeted in"
   ]
  },
  {
   "cell_type": "code",
   "execution_count": 19,
   "metadata": {
    "collapsed": false
   },
   "outputs": [
    {
     "data": {
      "text/plain": [
       "en     16704\n",
       "in       449\n",
       "und      418\n",
       "hi       398\n",
       "es       244\n",
       "tl        91\n",
       "ta        90\n",
       "it        62\n",
       "pt        52\n",
       "et        40\n",
       "gu        20\n",
       "ru        19\n",
       "fr        17\n",
       "ja        16\n",
       "ht        15\n",
       "mr        14\n",
       "ro        12\n",
       "da        11\n",
       "ur        10\n",
       "ml         9\n",
       "te         8\n",
       "kn         8\n",
       "de         8\n",
       "fi         5\n",
       "nl         5\n",
       "pl         5\n",
       "eu         4\n",
       "tr         3\n",
       "fa         2\n",
       "vi         2\n",
       "ne         2\n",
       "cy         2\n",
       "sv         1\n",
       "no         1\n",
       "si         1\n",
       "sl         1\n",
       "is         1\n",
       "bn         1\n",
       "zh         1\n",
       "hu         1\n",
       "ar         1\n",
       "cs         1\n",
       "ko         1\n",
       "Name: lang, dtype: int64"
      ]
     },
     "execution_count": 19,
     "metadata": {},
     "output_type": "execute_result"
    }
   ],
   "source": [
    "df.lang.value_counts()"
   ]
  },
  {
   "cell_type": "code",
   "execution_count": 20,
   "metadata": {
    "collapsed": false
   },
   "outputs": [
    {
     "data": {
      "text/plain": [
       "created_at\n",
       "2016-12-06 04:05:22    RT @EleanorH2O: We do amazing work in #India o...\n",
       "2016-12-06 04:05:23    RT @narendramodi: I bow to Dr. Babasaheb Ambed...\n",
       "2016-12-06 04:05:23    RT @narendramodi: I bow to Dr. Babasaheb Ambed...\n",
       "2016-12-06 04:05:24    RT @timesofindia: TN CM Jayalalithaa's death: ...\n",
       "2016-12-06 04:05:24    India mourns the loss of a leader but the peop...\n",
       "2016-12-06 04:05:24    RT @JaagAlerts: India unlikely to produce F16s...\n",
       "2016-12-06 04:05:24    I have 450 new followers from India, Banglades...\n",
       "2016-12-06 04:05:24    OMG! Customs Intercepts Container Of Jollof Ri...\n",
       "2016-12-06 04:05:25    India Jayalalitha: Thousands mourn colourful p...\n",
       "2016-12-06 04:05:25    @Ashwinyiyer Awaiting your film to arrive @ ne...\n",
       "2016-12-06 04:05:26    RT @yashar: Friendly reminder: Pakistan and In...\n",
       "2016-12-06 04:05:27    RT @SaranMufc_: Black day for India. #RIPJayal...\n",
       "2016-12-06 04:05:27    Carnegie India 'where technology meets policy'...\n",
       "2016-12-06 04:05:28    RT @TimesNow: VIDEO: The end of a era, India m...\n",
       "2016-12-06 04:05:28    RT @PrabhasRaju: #BaahubaliTops2015 Trending T...\n",
       "2016-12-06 04:05:28    @sardesairajdeep @suhelseth Did he also remind...\n",
       "2016-12-06 04:05:27    RT @poojakamal7: Really Sad news for people's ...\n",
       "2016-12-06 04:05:29    RT @offl_Lawrence: May your soul Rest In Peace...\n",
       "2016-12-06 04:05:29    RT @TandonRaveena: #RIPAmma. What a Remarkable...\n",
       "2016-12-06 04:05:29    RT @brumbyOz: Given the standard of politics i...\n",
       "2016-12-06 04:05:29    RT @_pooja_jagtap: RT EconomicTimes: Chinese f...\n",
       "2016-12-06 04:05:29    RT @BBCNewsAsia: Grief as India's 'Iron Lady' ...\n",
       "2016-12-06 04:05:29    India Jayalalitha: Thousands mourn colourful p...\n",
       "2016-12-06 04:05:30    Central govt announces one-day mourning after ...\n",
       "2016-12-06 04:05:30    India Jayalalitha: Thousands mourn colourful p...\n",
       "2016-12-06 04:05:30    The latest India Emancipated! https://t.co/AFf...\n",
       "2016-12-06 04:05:30    RT @SushmaSwaraj: We have brought him back to ...\n",
       "2016-12-06 04:05:30    RT @balajinodo78: @tufailelif addressees a ver...\n",
       "2016-12-06 04:05:31    RT @melaniecute90: Leela Cottages Goa #India =...\n",
       "2016-12-06 04:05:31    RT @FahadRajaPTI: Lets speak out against unite...\n",
       "                                             ...                        \n",
       "2016-12-06 05:19:03    RT @PiyushGoyal: Govt is working to ensure tha...\n",
       "2016-12-06 05:19:03    RT @KirenRijiju: When an Indian is voted TIME ...\n",
       "2016-12-06 05:19:03    RT @PiyushGoyal: Govt is working to ensure tha...\n",
       "2016-12-06 05:19:03    @abdullah_omar Indian democracy is acceptable ...\n",
       "2016-12-06 05:19:03    RT @ndtv: .@ArvindKejriwal to visit Chennai to...\n",
       "2016-12-06 05:19:03    RT @PiyushGoyal: Govt is working to ensure tha...\n",
       "2016-12-06 05:19:03    RT @IndiaToday: #AmmaForever\\nJ Jayalalithaa t...\n",
       "2016-12-06 05:19:04    RT @PiyushGoyal: Govt is working to ensure tha...\n",
       "2016-12-06 05:19:04    RT @PiyushGoyal: Govt is working to ensure tha...\n",
       "2016-12-06 05:19:04    RT @PiyushGoyal: Govt is working to ensure tha...\n",
       "2016-12-06 05:19:04    RT @PiyushGoyal: Govt is working to ensure tha...\n",
       "2016-12-06 05:19:04    RT @PiyushGoyal: Govt is working to ensure tha...\n",
       "2016-12-06 05:19:04    RT @PiyushGoyal: Govt is working to ensure tha...\n",
       "2016-12-06 05:19:04    RT @PiyushGoyal: Govt is working to ensure tha...\n",
       "2016-12-06 05:19:04    RT @PiyushGoyal: Govt is working to ensure tha...\n",
       "2016-12-06 05:19:04    RT @PiyushGoyal: Govt is working to ensure tha...\n",
       "2016-12-06 05:19:04    RT @PiyushGoyal: Govt is working to ensure tha...\n",
       "2016-12-06 05:19:04    RT @PiyushGoyal: Govt is working to ensure tha...\n",
       "2016-12-06 05:19:04    RT @IndianInterest: India needs fighter planes...\n",
       "2016-12-06 05:19:04    RT @PiyushGoyal: Govt is working to ensure tha...\n",
       "2016-12-06 05:19:04    RT @narendramodi: I bow to Dr. Babasaheb Ambed...\n",
       "2016-12-06 05:19:04    RT @PiyushGoyal: Govt is working to ensure tha...\n",
       "2016-12-06 05:19:04    RT @PiyushGoyal: Govt is working to ensure tha...\n",
       "2016-12-06 05:19:04    RT @PiyushGoyal: Govt is working to ensure tha...\n",
       "2016-12-06 05:19:04    RT @PiyushGoyal: Govt is working to ensure tha...\n",
       "2016-12-06 05:19:04    RT @PiyushGoyal: Govt is working to ensure tha...\n",
       "2016-12-06 05:19:04    RT @PiyushGoyal: Govt is working to ensure tha...\n",
       "2016-12-06 05:19:04    RT @PiyushGoyal: Govt is working to ensure tha...\n",
       "2016-12-06 05:19:04    RT @PiyushGoyal: Govt is working to ensure tha...\n",
       "2016-12-06 05:19:05    RT @iamlakshmirai: May ur soul rest in peace #...\n",
       "Name: text, dtype: object"
      ]
     },
     "execution_count": 20,
     "metadata": {},
     "output_type": "execute_result"
    }
   ],
   "source": [
    "en_text = df[df['lang'] == 'en'].pop('text')\n",
    "en_text"
   ]
  },
  {
   "cell_type": "markdown",
   "metadata": {},
   "source": [
    "Most frequent word"
   ]
  },
  {
   "cell_type": "code",
   "execution_count": 97,
   "metadata": {
    "collapsed": false
   },
   "outputs": [
    {
     "data": {
      "text/plain": [
       "[(u'rt', 10362),\n",
       " (u'india', 9379),\n",
       " (u'to', 8393),\n",
       " (u'of', 7425),\n",
       " (u'in', 6259),\n",
       " (u'the', 5862),\n",
       " (u'a', 3547),\n",
       " (u'for', 3010),\n",
       " (u'and', 2835),\n",
       " (u'is', 2388),\n",
       " (u'on', 2244),\n",
       " (u'&amp;', 1870),\n",
       " (u'his', 1829),\n",
       " (u'will', 1602),\n",
       " (u'be', 1482),\n",
       " (u'babasaheb', 1435),\n",
       " (u\"india's\", 1385),\n",
       " (u'-', 1357),\n",
       " (u'i', 1312),\n",
       " (u'soulja', 1259),\n",
       " (u'was', 1197),\n",
       " (u'we', 1142),\n",
       " (u'as', 1113),\n",
       " (u'that', 1090),\n",
       " (u'from', 1043),\n",
       " (u'jayalalithaa', 1017),\n",
       " (u'by', 1011),\n",
       " (u'has', 969),\n",
       " (u'@narendramodi', 965),\n",
       " (u'this', 963),\n",
       " (u'at', 938),\n",
       " (u'tamil', 928),\n",
       " (u'india\\u2019s', 918),\n",
       " (u'dr', 891),\n",
       " (u'now', 886),\n",
       " (u'have', 883),\n",
       " (u'with', 868),\n",
       " (u'ambedkar', 859),\n",
       " (u'#jayalalithaa', 831),\n",
       " (u'one', 826),\n",
       " (u'#india', 807),\n",
       " (u'leader', 753),\n",
       " (u'always', 752),\n",
       " (u'all', 752),\n",
       " (u'you', 716),\n",
       " (u'leaves', 693),\n",
       " (u'are', 692),\n",
       " (u'service', 687),\n",
       " (u'thankful', 673),\n",
       " (u'', 665)]"
      ]
     },
     "execution_count": 97,
     "metadata": {},
     "output_type": "execute_result"
    }
   ],
   "source": [
    "from collections import Counter\n",
    "\n",
    "tokens = []\n",
    "for txt in en_text.values:\n",
    "    tokens.extend([t.lower().strip(\":,.\") for t in txt.split()])\n",
    "    \n",
    "tokens_counter = Counter(tokens)\n",
    "\n",
    "tokens_counter.most_common(50)"
   ]
  },
  {
   "cell_type": "code",
   "execution_count": 2,
   "metadata": {
    "collapsed": false
   },
   "outputs": [],
   "source": [
    "import nltk\n"
   ]
  },
  {
   "cell_type": "code",
   "execution_count": null,
   "metadata": {
    "collapsed": false
   },
   "outputs": [],
   "source": []
  },
  {
   "cell_type": "code",
   "execution_count": 3,
   "metadata": {
    "collapsed": false
   },
   "outputs": [
    {
     "ename": "NameError",
     "evalue": "name 'tokens' is not defined",
     "output_type": "error",
     "traceback": [
      "\u001b[1;31m---------------------------------------------------------------------------\u001b[0m",
      "\u001b[1;31mNameError\u001b[0m                                 Traceback (most recent call last)",
      "\u001b[1;32m<ipython-input-3-1f27b3ecb083>\u001b[0m in \u001b[0;36m<module>\u001b[1;34m()\u001b[0m\n\u001b[0;32m      1\u001b[0m \u001b[1;33m\u001b[0m\u001b[0m\n\u001b[1;32m----> 2\u001b[1;33m \u001b[0mnltk_text\u001b[0m \u001b[1;33m=\u001b[0m \u001b[0mnltk\u001b[0m\u001b[1;33m.\u001b[0m\u001b[0mText\u001b[0m\u001b[1;33m(\u001b[0m\u001b[0mtokens\u001b[0m\u001b[1;33m)\u001b[0m\u001b[1;33m\u001b[0m\u001b[0m\n\u001b[0m\u001b[0;32m      3\u001b[0m \u001b[0mnltk_text\u001b[0m\u001b[1;33m.\u001b[0m\u001b[0mcollocations\u001b[0m\u001b[1;33m(\u001b[0m\u001b[1;33m)\u001b[0m\u001b[1;33m\u001b[0m\u001b[0m\n",
      "\u001b[1;31mNameError\u001b[0m: name 'tokens' is not defined"
     ]
    }
   ],
   "source": [
    "\n",
    "nltk_text = nltk.Text(tokens)\n",
    "nltk_text.collocations()"
   ]
  },
  {
   "cell_type": "code",
   "execution_count": 32,
   "metadata": {
    "collapsed": false
   },
   "outputs": [
    {
     "name": "stdout",
     "output_type": "stream",
     "text": [
      "Displaying 25 of 200 matches:\n",
      "y chosen 24th? rt @poojakamal7 really sad news for people's of tamil nadu and o\n",
      "e than one core peoples are crying so sad moring for us #jayalalithaa rt @dream\n",
      "lalitha’s life… rt @irahsinha it is a sad loss 4 india n painful for t people o\n",
      "t.co/zu7hzziwsa @gurmeetramrahim very sad for india rt @mamataofficial let us o\n",
      "t @adityainsan4 @gurmeetramrahim very sad news 4 india rip #jayalalithaa rt @be\n",
      ".co/wyzzemriyo rt @poojakamal7 really sad news for people's of tamil nadu and o\n",
      "t @adityainsan4 @gurmeetramrahim very sad news 4 india rip #jayalalithaa rt @ke\n",
      "rsity in #ind… rt @poojakamal7 really sad news for people's of tamil nadu and o\n",
      "e than one core peoples are crying so sad moring for us #jayalalithaa rt @naren\n",
      "addened rt @rajdipnakum i m also very sad to hear the news as she one of the mo\n",
      " &amp;aparna h… rt @varunkrish what a sad tweet from official handle of the par\n",
      "hiindustanii @aiadmkofficial #ripamma sad tragic loss for tn and india god give\n",
      "mo we @neeyamo pay our tribute to the sad demise of the honorable chief ministe\n",
      "t @adityainsan4 @gurmeetramrahim very sad news 4 india rip #jayalalithaa rt @na\n",
      "ripjayalalithaa #ripamma ndtv are you sad that the us f16 will be made in india\n",
      ".co/tj3vhbrlgc rt @poojakamal7 really sad news for people's of tamil nadu and o\n",
      " 2/2 swaraj india deeply condoles the sad demise of ms j jayalalitha the chief \n",
      "t @adityainsan4 @gurmeetramrahim very sad news 4 india rip #jayalalithaa rt @pr\n",
      ".co/jdun0ulhql rt @poojakamal7 really sad news for people's of tamil nadu and o\n",
      "t @adityainsan4 @gurmeetramrahim very sad news 4 india rip #jayalalithaa rt @ma\n",
      "ndia swaraj india deeply condoles the sad demise of ms j jayalalitha the chief \n",
      ".co/pcfslogbfp rt @poojakamal7 really sad news for people's of tamil nadu and o\n",
      "india https:/… rt @poojakamal7 really sad news for people's of tamil nadu and o\n",
      "4bx9i9ovv rt @sureshkrishna_1 feeling sad best man of india was lost yesterday \n",
      "https://t.co/5r6yywglhh #jayahealth a sad demise heartiest condolences to her f\n",
      "\n",
      "Displaying 25 of 204 matches:\n",
      "tion scores first pakistani casualty money laundering king javed khanani commit\n",
      "s country  don't need sermons from u money laundering thrives in india amid the\n",
      " india amid the thrust to curb black money #demonetisation #india #blackmoney h\n",
      " if turnbull loans #adani $1b of our money it is the end of his pm'ship india s\n",
      "limited pearls please try to get our money back which we had i… rt @adityainsan\n",
      "dia,they r also poor investors  whos money upto not refunded,now it's time… rt \n",
      "tps://t… will find way to give black money in jan dhan accounts to poor says pm\n",
      "took out all robbed our land and our money and our wealth https://t.co/fxcmrnnq\n",
      "elting is not going to give you your money this is not the solution raise your \n",
      " for years that there was huge black money in… rt @aiadmkofficial our beloved l\n",
      " clamp down the circulation of black money https://t.co/0rbb9b7dw0 rt @forbjpgu\n",
      " clamp down the circulation of black money https://t.co/0rbb9b7dw0 rt @forbjpgu\n",
      " clamp down the circulation of black money https://t.co/0rbb9b7dw0 rt @narendra\n",
      " clamp down the circulation of black money https://t.co/0rbb9b7dw0 rt @forbjpgu\n",
      " clamp down the circulation of black money https://t.co/0rbb9b7dw0 rt @narendra\n",
      " clamp down the circulation of black money https://t.co/0rbb9b7dw0 rt @forbjpgu\n",
      " clamp down the circulation of black money https://t.co/0rbb9b7dw0 rt @forbjpgu\n",
      " clamp down the circulation of black money https://t.co/0rbb9b7dw0 rt @forbjpgu\n",
      " clamp down the circulation of black money https://t.co/0rbb9b7dw0 rt @forbjpgu\n",
      " clamp down the circulation of black money https://t.co/0rbb9b7dw0 pm modi flyi\n",
      "ssive new coalmine we will never get money back india… rt @tufailelif my letter\n",
      " for years that there was huge black money in… rt @dhume jayalalithaa leaves ta\n",
      "nstitue of ca's of india-topic black money @swamy39 @jagdishshetty http… ye onc\n",
      "actions &amp; moving away from paper money #demonetisation rt @itwingdss a bold\n",
      "g to know how common man makes quick money our united opposition talks about ha\n"
     ]
    }
   ],
   "source": [
    "nltk_text.concordance(\"sad\")\n",
    "print\n",
    "nltk_text.concordance(\"money\")"
   ]
  },
  {
   "cell_type": "code",
   "execution_count": 38,
   "metadata": {
    "collapsed": false,
    "scrolled": true
   },
   "outputs": [
    {
     "name": "stdout",
     "output_type": "stream",
     "text": [
      "@narendramodi 960\n",
      "#india 794\n",
      "#jayalalithaa 744\n",
      "#ripamma 585\n",
      "@manakgupta 444\n",
      "https://t.co… 318\n",
      "@zephaniiiah 311\n",
      "@dhume 276\n",
      "#ammaforever 245\n",
      "@indiatoday 244\n",
      "#amma 220\n",
      "@sushmaswaraj 210\n",
      "#babrimasjid 183\n",
      "@bbcbreaking 179\n",
      "@ranaayyub 172\n",
      "@jpnadda 159\n",
      "@aiadmkofficial 151\n",
      "https:… 145\n",
      "@incindia 145\n",
      "#ba… 128\n",
      "https:/… 122\n",
      "#raeestrailertomorrow 122\n",
      "@nytimes 120\n",
      "@indianexpress 118\n",
      "#demonetisation 112\n",
      "@gurmeetramrahim 111\n",
      "https://… 109\n",
      "https://t.co/waPwvDQPe2 109\n",
      "@pmoindia 104\n",
      "#trndnl 104\n",
      "#shauryadiwas 103\n",
      "#news 103\n",
      "@trendsmapindia 102\n",
      "@asad_umar 98\n",
      "https://t… 91\n",
      "@yogrishiramdev 90\n",
      "@cnnnews18 88\n",
      "#jayalalithaa. 87\n",
      "@zeenews 85\n",
      "@pepsi 84\n",
      "@unilever 84\n",
      "@nestle 84\n",
      "@cocacola 84\n",
      "@colgate 84\n",
      "@trendinaliain 83\n",
      "https… 79\n",
      "@timesofindia 77\n",
      "#trump 74\n",
      "@ndtv 70\n",
      "@superstarrajini 67\n",
      "#tamilnadu 67\n",
      "@sardesairajdeep 66\n",
      "#jjayalalithaa 66\n",
      "@offl_lawrence 66\n",
      "https://t.co/KQzars5h7y 66\n",
      "@arvindkejriwal 64\n",
      "@sitaramyechury 63\n",
      "@tarekfatah 63\n",
      "@gauravpandhi 61\n",
      "#ind… 60\n",
      "http… 59\n",
      "@pbhushan1 59\n",
      "#200episodesofkrpkab 59\n",
      "https://t.co/3aWDG… 58\n",
      "@behindwoods 58\n",
      "@ellenbarrynyt 57\n",
      "@mamataofficial 57\n",
      "https://t.co/Nk87hgo5JL 56\n",
      "@ctravi_bjp 55\n",
      "@abpnewstv 53\n",
      "@cnn 53\n",
      "https://t.c… 52\n",
      "#ripamma. 51\n",
      "#kashmir 50\n",
      "@mkbhd 50\n",
      "https://t.… 50\n",
      "@tufailelif 50\n",
      "https://t.co/LJEvd40oOS 49\n",
      "#us 49\n",
      "@tandonraveena 49\n",
      "@indiaspend 46\n",
      "@forbjpgujarat 46\n",
      "@nh_india 46\n",
      "https://t.co/0rbb9B7DW0 46\n",
      "@akali_dal_ 46\n",
      "@saketescorts 46\n",
      "#aiadmk 46\n",
      "#ayodhya 46\n",
      "@harsimratbadal_ 45\n",
      "#jayalalithaa's 45\n",
      "@babu_bhaiyaa 45\n",
      "@piyushgoyal 45\n",
      "@srkuniverse 45\n",
      "@httweets 45\n",
      "https://t.co/XmVDPFiH0S 45\n",
      "https://t.co/tWKsSmzci8 45\n",
      "@shaheer_s 44\n",
      "@samirsaran 44\n",
      "@buesfun 42\n",
      "#travel 42\n"
     ]
    }
   ],
   "source": [
    "entities = []\n",
    "for txt in en_text.values:\n",
    "    for t in txt.split():\n",
    "        if t.startswith(\"http\") or t.startswith(\"@\") or t.startswith(\"#\") or t.startswith(\"RT @\"):\n",
    "            if not t.startswith(\"http\"):\n",
    "                t = t.lower()\n",
    "            entities.append(t.strip(\" :,\"))\n",
    "\n",
    "entities_counter = Counter(entities)\n",
    "for entity, freq in entities_counter.most_common()[:100]:\n",
    "    print entity, freq"
   ]
  },
  {
   "cell_type": "markdown",
   "metadata": {},
   "source": []
  },
  {
   "cell_type": "markdown",
   "metadata": {},
   "source": [
    "# SMS SPAM Collection UCI Dataset"
   ]
  },
  {
   "cell_type": "markdown",
   "metadata": {},
   "source": [
    "Import NLTK library that provides tools for Natural Language Processing"
   ]
  },
  {
   "cell_type": "code",
   "execution_count": 1,
   "metadata": {
    "collapsed": false
   },
   "outputs": [],
   "source": [
    "import nltk"
   ]
  },
  {
   "cell_type": "code",
   "execution_count": 2,
   "metadata": {
    "collapsed": false
   },
   "outputs": [
    {
     "data": {
      "text/plain": [
       "[u'The', u'Fulton', u'County', u'Grand', u'Jury', ...]"
      ]
     },
     "execution_count": 2,
     "metadata": {},
     "output_type": "execute_result"
    }
   ],
   "source": [
    "# install \"Brown\" from NLTK corpus(collection of texts)\n",
    "from nltk.corpus import brown\n",
    "brown.words()"
   ]
  },
  {
   "cell_type": "code",
   "execution_count": 3,
   "metadata": {
    "collapsed": false
   },
   "outputs": [
    {
     "name": "stdout",
     "output_type": "stream",
     "text": [
      "5574\n"
     ]
    }
   ],
   "source": [
    "# Read the SMS Spam collection file and print the number of messages. We can see that it has 5574 messages. \n",
    "messages = [line.rstrip() for line in open('/home/arjun/Downloads/smsspamcollection/SMSSpamCollection')]\n",
    "print (len(messages))"
   ]
  },
  {
   "cell_type": "code",
   "execution_count": 6,
   "metadata": {
    "collapsed": false
   },
   "outputs": [
    {
     "name": "stdout",
     "output_type": "stream",
     "text": [
      "(0, 'ham\\tGo until jurong point, crazy.. Available only in bugis n great world la e buffet... Cine there got amore wat...')\n",
      "\n",
      "\n",
      "(1, 'ham\\tOk lar... Joking wif u oni...')\n",
      "\n",
      "\n",
      "(2, \"spam\\tFree entry in 2 a wkly comp to win FA Cup final tkts 21st May 2005. Text FA to 87121 to receive entry question(std txt rate)T&C's apply 08452810075over18's\")\n",
      "\n",
      "\n",
      "(3, 'ham\\tU dun say so early hor... U c already then say...')\n",
      "\n",
      "\n",
      "(4, \"ham\\tNah I don't think he goes to usf, he lives around here though\")\n",
      "\n",
      "\n"
     ]
    }
   ],
   "source": [
    "# Here i am printing the first 5 messages and numbering them using enumerate for convenience. \n",
    "for message_no, message in enumerate(messages[:5]):\n",
    "    print (message_no, message)\n",
    "    print ('\\n')"
   ]
  },
  {
   "cell_type": "markdown",
   "metadata": {},
   "source": [
    "### Converting into a DataFrame to make life easier. "
   ]
  },
  {
   "cell_type": "code",
   "execution_count": 7,
   "metadata": {
    "collapsed": false
   },
   "outputs": [],
   "source": [
    "import pandas as pd\n",
    "from pandas import Series,DataFrame"
   ]
  },
  {
   "cell_type": "code",
   "execution_count": 16,
   "metadata": {
    "collapsed": false
   },
   "outputs": [
    {
     "data": {
      "text/html": [
       "<div>\n",
       "<table border=\"1\" class=\"dataframe\">\n",
       "  <thead>\n",
       "    <tr style=\"text-align: right;\">\n",
       "      <th></th>\n",
       "      <th>label</th>\n",
       "      <th>message</th>\n",
       "    </tr>\n",
       "  </thead>\n",
       "  <tbody>\n",
       "    <tr>\n",
       "      <th>0</th>\n",
       "      <td>ham</td>\n",
       "      <td>Go until jurong point, crazy.. Available only ...</td>\n",
       "    </tr>\n",
       "    <tr>\n",
       "      <th>1</th>\n",
       "      <td>ham</td>\n",
       "      <td>Ok lar... Joking wif u oni...</td>\n",
       "    </tr>\n",
       "    <tr>\n",
       "      <th>2</th>\n",
       "      <td>spam</td>\n",
       "      <td>Free entry in 2 a wkly comp to win FA Cup fina...</td>\n",
       "    </tr>\n",
       "    <tr>\n",
       "      <th>3</th>\n",
       "      <td>ham</td>\n",
       "      <td>U dun say so early hor... U c already then say...</td>\n",
       "    </tr>\n",
       "    <tr>\n",
       "      <th>4</th>\n",
       "      <td>ham</td>\n",
       "      <td>Nah I don't think he goes to usf, he lives aro...</td>\n",
       "    </tr>\n",
       "  </tbody>\n",
       "</table>\n",
       "</div>"
      ],
      "text/plain": [
       "  label                                            message\n",
       "0   ham  Go until jurong point, crazy.. Available only ...\n",
       "1   ham                      Ok lar... Joking wif u oni...\n",
       "2  spam  Free entry in 2 a wkly comp to win FA Cup fina...\n",
       "3   ham  U dun say so early hor... U c already then say...\n",
       "4   ham  Nah I don't think he goes to usf, he lives aro..."
      ]
     },
     "execution_count": 16,
     "metadata": {},
     "output_type": "execute_result"
    }
   ],
   "source": [
    "messages = pd.read_csv('/home/arjun/Downloads/smsspamcollection/SMSSpamCollection', sep='\\t',\n",
    "                           names=[\"label\", \"message\"])\n",
    "messages.head()"
   ]
  },
  {
   "cell_type": "markdown",
   "metadata": {},
   "source": [
    "### Exploratory Data Analysis"
   ]
  },
  {
   "cell_type": "code",
   "execution_count": 10,
   "metadata": {
    "collapsed": false
   },
   "outputs": [
    {
     "data": {
      "text/html": [
       "<div>\n",
       "<table border=\"1\" class=\"dataframe\">\n",
       "  <thead>\n",
       "    <tr style=\"text-align: right;\">\n",
       "      <th></th>\n",
       "      <th>label</th>\n",
       "      <th>message</th>\n",
       "    </tr>\n",
       "  </thead>\n",
       "  <tbody>\n",
       "    <tr>\n",
       "      <th>count</th>\n",
       "      <td>5572</td>\n",
       "      <td>5572</td>\n",
       "    </tr>\n",
       "    <tr>\n",
       "      <th>unique</th>\n",
       "      <td>2</td>\n",
       "      <td>5169</td>\n",
       "    </tr>\n",
       "    <tr>\n",
       "      <th>top</th>\n",
       "      <td>ham</td>\n",
       "      <td>Sorry, I'll call later</td>\n",
       "    </tr>\n",
       "    <tr>\n",
       "      <th>freq</th>\n",
       "      <td>4825</td>\n",
       "      <td>30</td>\n",
       "    </tr>\n",
       "  </tbody>\n",
       "</table>\n",
       "</div>"
      ],
      "text/plain": [
       "       label                 message\n",
       "count   5572                    5572\n",
       "unique     2                    5169\n",
       "top      ham  Sorry, I'll call later\n",
       "freq    4825                      30"
      ]
     },
     "execution_count": 10,
     "metadata": {},
     "output_type": "execute_result"
    }
   ],
   "source": [
    "#Getting some basic stats\n",
    "messages.describe()"
   ]
  },
  {
   "cell_type": "code",
   "execution_count": 11,
   "metadata": {
    "collapsed": false
   },
   "outputs": [
    {
     "data": {
      "text/html": [
       "<div>\n",
       "<table border=\"1\" class=\"dataframe\">\n",
       "  <thead>\n",
       "    <tr style=\"text-align: right;\">\n",
       "      <th></th>\n",
       "      <th></th>\n",
       "      <th>message</th>\n",
       "    </tr>\n",
       "    <tr>\n",
       "      <th>label</th>\n",
       "      <th></th>\n",
       "      <th></th>\n",
       "    </tr>\n",
       "  </thead>\n",
       "  <tbody>\n",
       "    <tr>\n",
       "      <th rowspan=\"4\" valign=\"top\">ham</th>\n",
       "      <th>count</th>\n",
       "      <td>4825</td>\n",
       "    </tr>\n",
       "    <tr>\n",
       "      <th>unique</th>\n",
       "      <td>4516</td>\n",
       "    </tr>\n",
       "    <tr>\n",
       "      <th>top</th>\n",
       "      <td>Sorry, I'll call later</td>\n",
       "    </tr>\n",
       "    <tr>\n",
       "      <th>freq</th>\n",
       "      <td>30</td>\n",
       "    </tr>\n",
       "    <tr>\n",
       "      <th rowspan=\"4\" valign=\"top\">spam</th>\n",
       "      <th>count</th>\n",
       "      <td>747</td>\n",
       "    </tr>\n",
       "    <tr>\n",
       "      <th>unique</th>\n",
       "      <td>653</td>\n",
       "    </tr>\n",
       "    <tr>\n",
       "      <th>top</th>\n",
       "      <td>Please call our customer service representativ...</td>\n",
       "    </tr>\n",
       "    <tr>\n",
       "      <th>freq</th>\n",
       "      <td>4</td>\n",
       "    </tr>\n",
       "  </tbody>\n",
       "</table>\n",
       "</div>"
      ],
      "text/plain": [
       "                                                        message\n",
       "label                                                          \n",
       "ham   count                                                4825\n",
       "      unique                                               4516\n",
       "      top                                Sorry, I'll call later\n",
       "      freq                                                   30\n",
       "spam  count                                                 747\n",
       "      unique                                                653\n",
       "      top     Please call our customer service representativ...\n",
       "      freq                                                    4"
      ]
     },
     "execution_count": 11,
     "metadata": {},
     "output_type": "execute_result"
    }
   ],
   "source": [
    "#Using the groupby fucntion to describe and get basic stats seperately for ham and spam\n",
    "messages.groupby('label').describe()"
   ]
  },
  {
   "cell_type": "code",
   "execution_count": 21,
   "metadata": {
    "collapsed": false
   },
   "outputs": [
    {
     "data": {
      "text/html": [
       "<div>\n",
       "<table border=\"1\" class=\"dataframe\">\n",
       "  <thead>\n",
       "    <tr style=\"text-align: right;\">\n",
       "      <th></th>\n",
       "      <th>label</th>\n",
       "      <th>message</th>\n",
       "      <th>length</th>\n",
       "    </tr>\n",
       "  </thead>\n",
       "  <tbody>\n",
       "    <tr>\n",
       "      <th>0</th>\n",
       "      <td>ham</td>\n",
       "      <td>Go until jurong point, crazy.. Available only ...</td>\n",
       "      <td>111</td>\n",
       "    </tr>\n",
       "    <tr>\n",
       "      <th>1</th>\n",
       "      <td>ham</td>\n",
       "      <td>Ok lar... Joking wif u oni...</td>\n",
       "      <td>29</td>\n",
       "    </tr>\n",
       "    <tr>\n",
       "      <th>2</th>\n",
       "      <td>spam</td>\n",
       "      <td>Free entry in 2 a wkly comp to win FA Cup fina...</td>\n",
       "      <td>155</td>\n",
       "    </tr>\n",
       "    <tr>\n",
       "      <th>3</th>\n",
       "      <td>ham</td>\n",
       "      <td>U dun say so early hor... U c already then say...</td>\n",
       "      <td>49</td>\n",
       "    </tr>\n",
       "    <tr>\n",
       "      <th>4</th>\n",
       "      <td>ham</td>\n",
       "      <td>Nah I don't think he goes to usf, he lives aro...</td>\n",
       "      <td>61</td>\n",
       "    </tr>\n",
       "  </tbody>\n",
       "</table>\n",
       "</div>"
      ],
      "text/plain": [
       "  label                                            message  length\n",
       "0   ham  Go until jurong point, crazy.. Available only ...     111\n",
       "1   ham                      Ok lar... Joking wif u oni...      29\n",
       "2  spam  Free entry in 2 a wkly comp to win FA Cup fina...     155\n",
       "3   ham  U dun say so early hor... U c already then say...      49\n",
       "4   ham  Nah I don't think he goes to usf, he lives aro...      61"
      ]
     },
     "execution_count": 21,
     "metadata": {},
     "output_type": "execute_result"
    }
   ],
   "source": [
    "# Adding a new column to count the number of characters in each message. \n",
    "messages['length'] = messages['message'].apply(len)\n",
    "messages.head()"
   ]
  },
  {
   "cell_type": "code",
   "execution_count": 22,
   "metadata": {
    "collapsed": false
   },
   "outputs": [],
   "source": [
    "#Plots and Visualization\n",
    "\n",
    "import matplotlib.pyplot as plt\n",
    "import seaborn as sns\n",
    "\n",
    "%matplotlib inline"
   ]
  },
  {
   "cell_type": "code",
   "execution_count": 23,
   "metadata": {
    "collapsed": false
   },
   "outputs": [
    {
     "data": {
      "text/plain": [
       "<matplotlib.text.Text at 0x7f0a5fc469d0>"
      ]
     },
     "execution_count": 23,
     "metadata": {},
     "output_type": "execute_result"
    },
    {
     "data": {
      "image/png": "[encoded data removed]",
      "text/plain": [
       "<matplotlib.figure.Figure at 0x7f0a5fc45b50>"
      ]
     },
     "metadata": {},
     "output_type": "display_data"
    }
   ],
   "source": [
    "#plotting length of texts against number of texts. We can see that some are really long messages but almost all are less than 200 characters.\n",
    "messages['length'].plot(bins=50,kind='hist')\n",
    "plt.ylabel('Term Frequency (TF)')\n",
    "plt.xlabel('Text message length')"
   ]
  },
  {
   "cell_type": "code",
   "execution_count": 24,
   "metadata": {
    "collapsed": false
   },
   "outputs": [
    {
     "data": {
      "text/plain": [
       "count    5572.000000\n",
       "mean       80.616296\n",
       "std        60.015593\n",
       "min         2.000000\n",
       "25%        36.000000\n",
       "50%        62.000000\n",
       "75%       122.000000\n",
       "max       910.000000\n",
       "Name: length, dtype: float64"
      ]
     },
     "execution_count": 24,
     "metadata": {},
     "output_type": "execute_result"
    }
   ],
   "source": [
    "#Getting general statistics for length. Its interesting to see that there is a message with 910 characters.  \n",
    "messages.length.describe()"
   ]
  },
  {
   "cell_type": "code",
   "execution_count": 25,
   "metadata": {
    "collapsed": false
   },
   "outputs": [
    {
     "data": {
      "text/plain": [
       "\"For me the love should start with attraction.i should feel that I need her every time around me.she should be the first thing which comes in my thoughts.I would start the day and end it with her.she should be there every time I dream.love will be then when my every breath has her name.my life should happen around her.my life will be named to her.I would cry for her.will give all my happiness and take all her sorrows.I will be ready to fight with anyone for her.I will be in love when I will be doing the craziest things for her.love will be when I don't have to proove anyone that my girl is the most beautiful lady on the whole planet.I will always be singing praises for her.love will be when I start up making chicken curry and end up makiing sambar.life will be the most beautiful then.will get every morning and thank god for the day because she is with me.I would like to say a lot..will tell later..\""
      ]
     },
     "execution_count": 25,
     "metadata": {},
     "output_type": "execute_result"
    }
   ],
   "source": [
    "# Looking at the message with 910 characters. \n",
    "\n",
    "messages[messages['length'] == 910]['message'].iloc[0]"
   ]
  },
  {
   "cell_type": "code",
   "execution_count": 26,
   "metadata": {
    "collapsed": false
   },
   "outputs": [
    {
     "data": {
      "text/plain": [
       "<matplotlib.text.Text at 0x7f0a5f754290>"
      ]
     },
     "execution_count": 26,
     "metadata": {},
     "output_type": "execute_result"
    },
    {
     "data": {
      "image/png": "[encoded data removed]",
      "text/plain": [
       "<matplotlib.figure.Figure at 0x7f0a5f7b1650>"
      ]
     },
     "metadata": {},
     "output_type": "display_data"
    }
   ],
   "source": [
    "# plotting the length vs frequency seperately for labels 'Ham' and 'Spam'\n",
    "messages.hist(column='length', by='label', bins=50,figsize=(10,4))\n",
    "plt.ylabel('Term Frequency (TF)')\n",
    "plt.xlabel('Text message length')"
   ]
  },
  {
   "cell_type": "markdown",
   "metadata": {},
   "source": [
    "It is interesting to see that spam messages are longer than those that are not. "
   ]
  },
  {
   "cell_type": "markdown",
   "metadata": {},
   "source": [
    "### Text Pre-Processing with Python String"
   ]
  },
  {
   "cell_type": "code",
   "execution_count": 39,
   "metadata": {
    "collapsed": true
   },
   "outputs": [],
   "source": [
    "#Remove puncuations.\n",
    "import string\n",
    "\n",
    "mess = 'Sample. Hello! There is a punctuation.'\n",
    "\n",
    "# Check characters to see if they are in punctuation\n",
    "nopunc = [char for char in mess if char not in string.punctuation]\n",
    "\n",
    "# Join the characters again to form the string.\n",
    "nopunc = ''.join(nopunc)"
   ]
  },
  {
   "cell_type": "code",
   "execution_count": 40,
   "metadata": {
    "collapsed": false
   },
   "outputs": [
    {
     "data": {
      "text/plain": [
       "[u'i',\n",
       " u'me',\n",
       " u'my',\n",
       " u'myself',\n",
       " u'we',\n",
       " u'our',\n",
       " u'ours',\n",
       " u'ourselves',\n",
       " u'you',\n",
       " u'your']"
      ]
     },
     "execution_count": 40,
     "metadata": {},
     "output_type": "execute_result"
    }
   ],
   "source": [
    "# Remove the common Engish words. NLTK calls them stopwords Some of them are shown below.\n",
    "from nltk.corpus import stopwords\n",
    "stopwords.words('english')[0:10] "
   ]
  },
  {
   "cell_type": "code",
   "execution_count": 42,
   "metadata": {
    "collapsed": false
   },
   "outputs": [
    {
     "data": {
      "text/plain": [
       "['Sample', 'Hello', 'There', 'is', 'a', 'punctuation']"
      ]
     },
     "execution_count": 42,
     "metadata": {},
     "output_type": "execute_result"
    }
   ],
   "source": [
    "#Splitting the sample inut. \n",
    "nopunc.split()"
   ]
  },
  {
   "cell_type": "code",
   "execution_count": 43,
   "metadata": {
    "collapsed": true
   },
   "outputs": [],
   "source": [
    "\n",
    "def text_process(mess):\n",
    "    \"\"\"\n",
    "    Takes in a string of text, then performs the following:\n",
    "    1. Remove all punctuation\n",
    "    2. Remove all stopwords\n",
    "    3. Returns a list of the cleaned text\n",
    "    \"\"\"\n",
    "    # Check characters to see if they are in punctuation\n",
    "    nopunc = [char for char in mess if char not in string.punctuation]\n",
    "\n",
    "    # Join the characters again to form the string.\n",
    "    nopunc = ''.join(nopunc)\n",
    "    \n",
    "    # Now just remove any stopwords\n",
    "    return [word for word in nopunc.split() if word.lower() not in stopwords.words('english')]"
   ]
  },
  {
   "cell_type": "code",
   "execution_count": 45,
   "metadata": {
    "collapsed": false
   },
   "outputs": [
    {
     "data": {
      "text/html": [
       "<div>\n",
       "<table border=\"1\" class=\"dataframe\">\n",
       "  <thead>\n",
       "    <tr style=\"text-align: right;\">\n",
       "      <th></th>\n",
       "      <th>label</th>\n",
       "      <th>message</th>\n",
       "      <th>length</th>\n",
       "    </tr>\n",
       "  </thead>\n",
       "  <tbody>\n",
       "    <tr>\n",
       "      <th>0</th>\n",
       "      <td>ham</td>\n",
       "      <td>Go until jurong point, crazy.. Available only ...</td>\n",
       "      <td>111</td>\n",
       "    </tr>\n",
       "    <tr>\n",
       "      <th>1</th>\n",
       "      <td>ham</td>\n",
       "      <td>Ok lar... Joking wif u oni...</td>\n",
       "      <td>29</td>\n",
       "    </tr>\n",
       "    <tr>\n",
       "      <th>2</th>\n",
       "      <td>spam</td>\n",
       "      <td>Free entry in 2 a wkly comp to win FA Cup fina...</td>\n",
       "      <td>155</td>\n",
       "    </tr>\n",
       "    <tr>\n",
       "      <th>3</th>\n",
       "      <td>ham</td>\n",
       "      <td>U dun say so early hor... U c already then say...</td>\n",
       "      <td>49</td>\n",
       "    </tr>\n",
       "    <tr>\n",
       "      <th>4</th>\n",
       "      <td>ham</td>\n",
       "      <td>Nah I don't think he goes to usf, he lives aro...</td>\n",
       "      <td>61</td>\n",
       "    </tr>\n",
       "  </tbody>\n",
       "</table>\n",
       "</div>"
      ],
      "text/plain": [
       "  label                                            message  length\n",
       "0   ham  Go until jurong point, crazy.. Available only ...     111\n",
       "1   ham                      Ok lar... Joking wif u oni...      29\n",
       "2  spam  Free entry in 2 a wkly comp to win FA Cup fina...     155\n",
       "3   ham  U dun say so early hor... U c already then say...      49\n",
       "4   ham  Nah I don't think he goes to usf, he lives aro...      61"
      ]
     },
     "execution_count": 45,
     "metadata": {},
     "output_type": "execute_result"
    }
   ],
   "source": [
    "#Original Dataframe\n",
    "messages.head()"
   ]
  },
  {
   "cell_type": "code",
   "execution_count": 73,
   "metadata": {
    "collapsed": false
   },
   "outputs": [
    {
     "data": {
      "text/plain": [
       "0    [Go, jurong, point, crazy, Available, bugis, n...\n",
       "1                       [Ok, lar, Joking, wif, u, oni]\n",
       "2    [Free, entry, 2, wkly, comp, win, FA, Cup, fin...\n",
       "3        [U, dun, say, early, hor, U, c, already, say]\n",
       "4    [Nah, dont, think, goes, usf, lives, around, t...\n",
       "Name: message, dtype: object"
      ]
     },
     "execution_count": 73,
     "metadata": {},
     "output_type": "execute_result"
    }
   ],
   "source": [
    "# Check to make sure its working\n",
    "messages['message'].head(5).apply(text_process)"
   ]
  },
  {
   "cell_type": "markdown",
   "metadata": {},
   "source": [
    "## Vectorization using the bag-of-words model:\n",
    "### 1.Count how many times does a word occur in each message (Known as term frequency)\n",
    "### 2.Weigh the counts, so that frequent tokens get lower weight (inverse document frequency)\n",
    "### 3.Normalize the vectors to unit length, to abstract from the original text length (L2 norm)"
   ]
  },
  {
   "cell_type": "code",
   "execution_count": 46,
   "metadata": {
    "collapsed": true
   },
   "outputs": [],
   "source": [
    "#Using SciKit Learn's CountVectorizer. This will convert a collection of text documents to a matrix of token counts.\n",
    "from sklearn.feature_extraction.text import CountVectorizer"
   ]
  },
  {
   "cell_type": "code",
   "execution_count": 47,
   "metadata": {
    "collapsed": false
   },
   "outputs": [
    {
     "name": "stderr",
     "output_type": "stream",
     "text": [
      "/home/arjun/Enthought/Canopy_64bit/User/lib/python2.7/site-packages/ipykernel/__main__.py:16: UnicodeWarning: Unicode equal comparison failed to convert both arguments to Unicode - interpreting them as being unequal\n"
     ]
    },
    {
     "name": "stdout",
     "output_type": "stream",
     "text": [
      "11425\n"
     ]
    }
   ],
   "source": [
    "bow_transformer = CountVectorizer(analyzer=text_process).fit(messages['message'])\n",
    "\n",
    "# Print total number of vocab words\n",
    "print (len(bow_transformer.vocabulary_))"
   ]
  },
  {
   "cell_type": "code",
   "execution_count": 60,
   "metadata": {
    "collapsed": false
   },
   "outputs": [
    {
     "name": "stdout",
     "output_type": "stream",
     "text": [
      "Ok lar... Joking wif u oni...\n"
     ]
    }
   ],
   "source": [
    "message2 = messages['message'][1]\n",
    "print (message2)"
   ]
  },
  {
   "cell_type": "code",
   "execution_count": 62,
   "metadata": {
    "collapsed": false
   },
   "outputs": [
    {
     "name": "stdout",
     "output_type": "stream",
     "text": [
      "  (0, 1110)\t1\n",
      "  (0, 1483)\t1\n",
      "  (0, 2060)\t1\n",
      "  (0, 4653)\t1\n",
      "  (0, 5217)\t1\n",
      "  (0, 5218)\t1\n",
      "  (0, 5769)\t1\n",
      "  (0, 6217)\t1\n",
      "  (0, 6906)\t1\n",
      "  (0, 6937)\t1\n",
      "  (0, 7555)\t1\n",
      "  (0, 7668)\t1\n",
      "  (0, 8336)\t1\n",
      "  (0, 8917)\t1\n",
      "  (0, 10965)\t1\n",
      "  (0, 11163)\t1\n",
      "(1, 11425)\n"
     ]
    }
   ],
   "source": [
    "bow1 = bow_transformer.transform([message1])\n",
    "print (bow1)\n",
    "print (bow4.shape)"
   ]
  },
  {
   "cell_type": "markdown",
   "metadata": {},
   "source": [
    "This shows that all words in this message are unique. "
   ]
  },
  {
   "cell_type": "code",
   "execution_count": 63,
   "metadata": {
    "collapsed": false
   },
   "outputs": [
    {
     "name": "stderr",
     "output_type": "stream",
     "text": [
      "/home/arjun/Enthought/Canopy_64bit/User/lib/python2.7/site-packages/ipykernel/__main__.py:16: UnicodeWarning: Unicode equal comparison failed to convert both arguments to Unicode - interpreting them as being unequal\n"
     ]
    },
    {
     "name": "stdout",
     "output_type": "stream",
     "text": [
      "('Shape of Sparse Matrix: ', (5572, 11425))\n",
      "('Amount of Non-Zero occurences: ', 50548)\n",
      "sparsity: 0.08%\n"
     ]
    }
   ],
   "source": [
    "#Using Bag-of-Words (bow) transformed object to entire DataFrame of messages\n",
    "messages_bow = bow_transformer.transform(messages['message'])\n",
    "print ('Shape of Sparse Matrix: ', messages_bow.shape)\n",
    "print ('Amount of Non-Zero occurences: ', messages_bow.nnz)\n",
    "print ('sparsity: %.2f%%' % (100.0 * messages_bow.nnz / (messages_bow.shape[0] * messages_bow.shape[1])))"
   ]
  },
  {
   "cell_type": "markdown",
   "metadata": {
    "collapsed": true
   },
   "source": [
    "### Perform TF-IDF"
   ]
  },
  {
   "cell_type": "markdown",
   "metadata": {},
   "source": [
    "#### TF-IDF stands for term frequency-inverse document frequency, and the tf-idf weight is a weight often \n",
    "#### used in information retrieval and text mining. \n",
    "#### TF- measures how frequently a term occurs in a document\n",
    "#### TF(t) = (Number of times term t appears in a document) / (Total number of terms in the document).\n",
    "#### IDF-how important a word is to a document in a collection or corpus.\n",
    "#### IDF(t) = log_e(Total number of documents / Number of documents with term t in it)."
   ]
  },
  {
   "cell_type": "code",
   "execution_count": 66,
   "metadata": {
    "collapsed": false
   },
   "outputs": [
    {
     "name": "stdout",
     "output_type": "stream",
     "text": [
      "  (0, 11163)\t0.230266855924\n",
      "  (0, 10965)\t0.190734285451\n",
      "  (0, 8917)\t0.247046523768\n",
      "  (0, 8336)\t0.170468692922\n",
      "  (0, 7668)\t0.264033840655\n",
      "  (0, 7555)\t0.312538562607\n",
      "  (0, 6937)\t0.183469241361\n",
      "  (0, 6906)\t0.151584746647\n",
      "  (0, 6217)\t0.189155577328\n",
      "  (0, 5769)\t0.24984711893\n",
      "  (0, 5218)\t0.268705938625\n",
      "  (0, 5217)\t0.298351840882\n",
      "  (0, 4653)\t0.312538562607\n",
      "  (0, 2060)\t0.242039602564\n",
      "  (0, 1483)\t0.312538562607\n",
      "  (0, 1110)\t0.288286201631\n"
     ]
    }
   ],
   "source": [
    "from sklearn.feature_extraction.text import TfidfTransformer\n",
    "\n",
    "tfidf_transformer = TfidfTransformer().fit(messages_bow)\n",
    "tfidf1 = tfidf_transformer.transform(bow1)\n",
    "print (tfidf1)"
   ]
  },
  {
   "cell_type": "code",
   "execution_count": 68,
   "metadata": {
    "collapsed": false
   },
   "outputs": [
    {
     "name": "stdout",
     "output_type": "stream",
     "text": [
      "8.23939442645\n",
      "8.5270764989\n"
     ]
    }
   ],
   "source": [
    "#Checking the IDF of words \"cat\"and \"building\"?\n",
    "print (tfidf_transformer.idf_[bow_transformer.vocabulary_['cat']])\n",
    "print (tfidf_transformer.idf_[bow_transformer.vocabulary_['building']])"
   ]
  },
  {
   "cell_type": "code",
   "execution_count": 69,
   "metadata": {
    "collapsed": false
   },
   "outputs": [
    {
     "name": "stdout",
     "output_type": "stream",
     "text": [
      "(5572, 11425)\n"
     ]
    }
   ],
   "source": [
    "# Transforming the entire bag-of-words corpus into TF-IDF corpus:\n",
    "messages_tfidf = tfidf_transformer.transform(messages_bow)\n",
    "print (messages_tfidf.shape)"
   ]
  },
  {
   "cell_type": "markdown",
   "metadata": {},
   "source": [
    "### Model Building using Naive Bayes"
   ]
  },
  {
   "cell_type": "code",
   "execution_count": 76,
   "metadata": {
    "collapsed": true
   },
   "outputs": [],
   "source": [
    "from sklearn.naive_bayes import MultinomialNB\n",
    "spam_detect_model = MultinomialNB().fit(messages_tfidf, messages['label'])"
   ]
  },
  {
   "cell_type": "code",
   "execution_count": 83,
   "metadata": {
    "collapsed": false
   },
   "outputs": [
    {
     "name": "stdout",
     "output_type": "stream",
     "text": [
      "('predicted:', 'ham')\n",
      "('expected:', 'ham')\n"
     ]
    }
   ],
   "source": [
    "#Predicting for the first message. It has done it correctly. \n",
    "\n",
    "print ('predicted:', spam_detect_model.predict(tfidf1)[0])\n",
    "print ('expected:', messages.label[1])"
   ]
  },
  {
   "cell_type": "code",
   "execution_count": 85,
   "metadata": {
    "collapsed": false
   },
   "outputs": [
    {
     "name": "stdout",
     "output_type": "stream",
     "text": [
      "['ham' 'ham' 'spam' ..., 'ham' 'ham' 'ham']\n"
     ]
    }
   ],
   "source": [
    "#All predictions for full databset\n",
    "all_predictions = spam_detect_model.predict(messages_tfidf)\n",
    "print (all_predictions)"
   ]
  },
  {
   "cell_type": "code",
   "execution_count": 86,
   "metadata": {
    "collapsed": false
   },
   "outputs": [
    {
     "name": "stdout",
     "output_type": "stream",
     "text": [
      "             precision    recall  f1-score   support\n",
      "\n",
      "        ham       0.98      1.00      0.99      4825\n",
      "       spam       1.00      0.85      0.92       747\n",
      "\n",
      "avg / total       0.98      0.98      0.98      5572\n",
      "\n"
     ]
    }
   ],
   "source": [
    "# Evaluating performance\n",
    "from sklearn.metrics import classification_report\n",
    "print (classification_report(messages['label'], all_predictions))"
   ]
  },
  {
   "cell_type": "markdown",
   "metadata": {},
   "source": [
    "### Spliting to testing and training datasets"
   ]
  },
  {
   "cell_type": "code",
   "execution_count": 90,
   "metadata": {
    "collapsed": false
   },
   "outputs": [
    {
     "name": "stdout",
     "output_type": "stream",
     "text": [
      "(4457, 1115, 5572)\n",
      "CPU times: user 24 ms, sys: 0 ns, total: 24 ms\n",
      "Wall time: 20.4 ms\n"
     ]
    }
   ],
   "source": [
    "\n",
    "%%time\n",
    "from sklearn.cross_validation import train_test_split\n",
    "\n",
    "msg_train, msg_test, label_train, label_test = \\\n",
    "train_test_split(messages['message'], messages['label'], test_size=0.2)\n",
    "\n",
    "print (len(msg_train), len(msg_test), len(msg_train) + len(msg_test))"
   ]
  },
  {
   "cell_type": "code",
   "execution_count": 91,
   "metadata": {
    "collapsed": true
   },
   "outputs": [],
   "source": [
    "\n",
    "from sklearn.pipeline import Pipeline\n",
    "\n",
    "pipeline = Pipeline([\n",
    "    ('bow', CountVectorizer(analyzer=text_process)),  # strings to token integer counts\n",
    "    ('tfidf', TfidfTransformer()),  # integer counts to weighted TF-IDF scores\n",
    "    ('classifier', MultinomialNB()),  # train on TF-IDF vectors w/ Naive Bayes classifier\n",
    "])"
   ]
  },
  {
   "cell_type": "code",
   "execution_count": 92,
   "metadata": {
    "collapsed": false
   },
   "outputs": [
    {
     "name": "stderr",
     "output_type": "stream",
     "text": [
      "/home/arjun/Enthought/Canopy_64bit/User/lib/python2.7/site-packages/ipykernel/__main__.py:16: UnicodeWarning: Unicode equal comparison failed to convert both arguments to Unicode - interpreting them as being unequal\n"
     ]
    },
    {
     "name": "stdout",
     "output_type": "stream",
     "text": [
      "CPU times: user 20.2 s, sys: 1.26 s, total: 21.5 s\n",
      "Wall time: 21.5 s\n"
     ]
    },
    {
     "data": {
      "text/plain": [
       "Pipeline(steps=[('bow', CountVectorizer(analyzer=<function text_process at 0x7f9b90bee7d0>,\n",
       "        binary=False, decode_error=u'strict', dtype=<type 'numpy.int64'>,\n",
       "        encoding=u'utf-8', input=u'content', lowercase=True, max_df=1.0,\n",
       "        max_features=None, min_df=1, ngram_range=(1, 1), preprocessor=...         use_idf=True)), ('classifier', MultinomialNB(alpha=1.0, class_prior=None, fit_prior=True))])"
      ]
     },
     "execution_count": 92,
     "metadata": {},
     "output_type": "execute_result"
    }
   ],
   "source": [
    "%%time\n",
    "pipeline.fit(msg_train,label_train)"
   ]
  },
  {
   "cell_type": "code",
   "execution_count": 93,
   "metadata": {
    "collapsed": false
   },
   "outputs": [
    {
     "name": "stderr",
     "output_type": "stream",
     "text": [
      "/home/arjun/Enthought/Canopy_64bit/User/lib/python2.7/site-packages/ipykernel/__main__.py:16: UnicodeWarning: Unicode equal comparison failed to convert both arguments to Unicode - interpreting them as being unequal\n"
     ]
    },
    {
     "name": "stdout",
     "output_type": "stream",
     "text": [
      "CPU times: user 5.05 s, sys: 276 ms, total: 5.33 s\n",
      "Wall time: 5.33 s\n"
     ]
    }
   ],
   "source": [
    "%%time\n",
    "predictions = pipeline.predict(msg_test)"
   ]
  },
  {
   "cell_type": "code",
   "execution_count": 94,
   "metadata": {
    "collapsed": false
   },
   "outputs": [
    {
     "name": "stdout",
     "output_type": "stream",
     "text": [
      "             precision    recall  f1-score   support\n",
      "\n",
      "        ham       1.00      0.96      0.98      1005\n",
      "       spam       0.73      1.00      0.85       110\n",
      "\n",
      "avg / total       0.97      0.96      0.97      1115\n",
      "\n",
      "CPU times: user 12 ms, sys: 0 ns, total: 12 ms\n",
      "Wall time: 8.07 ms\n"
     ]
    }
   ],
   "source": [
    "\n",
    "%%time\n",
    "print (classification_report(predictions,label_test))"
   ]
  },
  {
   "cell_type": "code",
   "execution_count": null,
   "metadata": {
    "collapsed": true
   },
   "outputs": [],
   "source": []
  }
 ],
 "metadata": {
  "kernelspec": {
   "display_name": "Python 2",
   "language": "python",
   "name": "python2"
  },
  "language_info": {
   "codemirror_mode": {
    "name": "ipython",
    "version": 2
   },
   "file_extension": ".py",
   "mimetype": "text/x-python",
   "name": "python",
   "nbconvert_exporter": "python",
   "pygments_lexer": "ipython2",
   "version": "2.7.11"
  }
 },
 "nbformat": 4,
 "nbformat_minor": 0
}
